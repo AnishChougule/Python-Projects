{
 "cells": [
  {
   "cell_type": "markdown",
   "id": "56104023",
   "metadata": {},
   "source": [
    "# Sales Analysis"
   ]
  },
  {
   "cell_type": "markdown",
   "id": "3e2bb8e0",
   "metadata": {},
   "source": [
    "## Libraries"
   ]
  },
  {
   "cell_type": "code",
   "execution_count": 1,
   "id": "86c8653c",
   "metadata": {},
   "outputs": [],
   "source": [
    "import pandas as pd\n",
    "import numpy as np\n",
    "import matplotlib.pyplot as plt\n",
    "import seaborn as sns\n",
    "import glob\n",
    "import matplotlib.pyplot as plt\n",
    "\n",
    "# global font family\n",
    "plt.rcParams['font.family'] = 'Arial'"
   ]
  },
  {
   "cell_type": "markdown",
   "id": "af3e99aa",
   "metadata": {},
   "source": [
    "## Reading CSVs"
   ]
  },
  {
   "cell_type": "code",
   "execution_count": 2,
   "id": "45414795",
   "metadata": {},
   "outputs": [],
   "source": [
    "location = 'D:\\ANISH\\Portfolio\\Python Projects\\Data Analysis Project\\Dataset/*.csv'\n",
    "for file in glob.glob(location):\n",
    "    print(file)"
   ]
  },
  {
   "cell_type": "code",
   "execution_count": 3,
   "id": "45dc3704",
   "metadata": {},
   "outputs": [],
   "source": [
    "df = pd.read_csv('D:\\ANISH\\Portfolio\\Python Projects\\Data Analysis Project\\Dataset\\Sales_January_2019.csv')\n",
    "df.head()"
   ]
  },
  {
   "cell_type": "markdown",
   "id": "80287796",
   "metadata": {},
   "source": [
    "## Function to combine CSV files"
   ]
  },
  {
   "cell_type": "code",
   "execution_count": 4,
   "id": "fba94ec2",
   "metadata": {},
   "outputs": [],
   "source": [
    "def combinedata(x):\n",
    "        dfs = []\n",
    "        for file in glob.glob(x):\n",
    "            dfs.append(pd.read_csv(file))\n",
    "            combineddfs = pd.concat(dfs,ignore_index=True)\n",
    "        return combineddfs\n",
    "\n",
    "filepath = 'D:\\ANISH\\Portfolio\\Python Projects\\Data Analysis Project\\Dataset/*'\n",
    "\n",
    "maindf = combinedata(filepath)\n",
    "maindf.shape"
   ]
  },
  {
   "cell_type": "markdown",
   "id": "52a077db",
   "metadata": {},
   "source": [
    "## Final combined dataframe"
   ]
  },
  {
   "cell_type": "code",
   "execution_count": 5,
   "id": "8fdf34d4",
   "metadata": {
    "scrolled": true
   },
   "outputs": [],
   "source": [
    "maindf"
   ]
  },
  {
   "cell_type": "markdown",
   "id": "ccb610cf",
   "metadata": {},
   "source": [
    "# Cleaning dataframe"
   ]
  },
  {
   "cell_type": "markdown",
   "id": "14414777",
   "metadata": {},
   "source": [
    "### Removing NULLS"
   ]
  },
  {
   "cell_type": "code",
   "execution_count": 6,
   "id": "f64460c4",
   "metadata": {},
   "outputs": [],
   "source": [
    "maindf.isna().sum()\n",
    "nan = maindf[maindf.isna().any(axis=1)]\n",
    "maindf = maindf.dropna(how='all')\n",
    "maindf.isna().sum()"
   ]
  },
  {
   "cell_type": "markdown",
   "id": "5d443b80",
   "metadata": {},
   "source": [
    "### Removing Column names from rows"
   ]
  },
  {
   "cell_type": "code",
   "execution_count": 7,
   "id": "78507313",
   "metadata": {},
   "outputs": [],
   "source": [
    "maindf[maindf['Order ID'] == \"Order ID\"]\n",
    "maindf[maindf['Order ID'] == \"Order ID\"].count()"
   ]
  },
  {
   "cell_type": "code",
   "execution_count": 8,
   "id": "4a5f8191",
   "metadata": {},
   "outputs": [],
   "source": [
    "maindf = maindf.drop(maindf[maindf['Order ID'] == 'Order ID'].index)\n",
    "maindf[maindf['Order ID'] == \"Order ID\"].count()"
   ]
  },
  {
   "cell_type": "markdown",
   "id": "b37de92d",
   "metadata": {},
   "source": [
    "## Changing Datatypes to increase speed"
   ]
  },
  {
   "cell_type": "code",
   "execution_count": 9,
   "id": "cc8c06a0",
   "metadata": {
    "scrolled": true
   },
   "outputs": [],
   "source": [
    "maindf.info()\n",
    "maindf['Quantity Ordered'] = pd.to_numeric(maindf['Quantity Ordered'])\n",
    "maindf['Price Each'] = pd.to_numeric(maindf['Price Each'])\n",
    "maindf['Order ID'] = pd.to_numeric(maindf['Order ID'])\n",
    "maindf['Order Date'] = pd.to_datetime(maindf['Order Date'])\n",
    "maindf.info()"
   ]
  },
  {
   "cell_type": "markdown",
   "id": "cb0c77fb",
   "metadata": {},
   "source": [
    "## adding columns"
   ]
  },
  {
   "cell_type": "code",
   "execution_count": 10,
   "id": "e9bcd047",
   "metadata": {},
   "outputs": [],
   "source": [
    "#Rename Order Date to Order Datetime\n",
    "df.rename(columns={'Order Date': 'Order DateTime'}, inplace=True)\n",
    "\n",
    "#Date\n",
    "maindf['Date'] = maindf['Order Date'].dt.date\n",
    "\n",
    "# Month column\n",
    "maindf['Month'] = maindf['Order Date'].dt.month\n",
    "\n",
    "# weekday\n",
    "maindf['Weekday'] = maindf['Order Date'].dt.weekday\n",
    "\n",
    "# Day column\n",
    "maindf['MonthDay'] = maindf['Order Date'].dt.day\n",
    "\n",
    "# Hour column\n",
    "maindf['Hour'] = maindf['Order Date'].dt.hour\n",
    "\n",
    "# Minute column\n",
    "maindf['Minute'] = maindf['Order Date'].dt.minute"
   ]
  },
  {
   "cell_type": "code",
   "execution_count": 11,
   "id": "634b7f56",
   "metadata": {},
   "outputs": [],
   "source": [
    "# Sales Column\n",
    "maindf['Sales'] = maindf['Quantity Ordered'] * maindf['Price Each']"
   ]
  },
  {
   "cell_type": "code",
   "execution_count": 12,
   "id": "26030c52",
   "metadata": {
    "scrolled": false
   },
   "outputs": [],
   "source": [
    "# City State column\n",
    "# City State\n",
    "def get_city_state(x):\n",
    "    return f\"{x.split(', ')[1]} {x.split(', ')[2].split(' ')[0]}\"\n",
    "\n",
    "maindf['City State'] = maindf['Purchase Address'].apply(lambda x: get_city_state(x))"
   ]
  },
  {
   "cell_type": "code",
   "execution_count": 13,
   "id": "a500b790",
   "metadata": {},
   "outputs": [],
   "source": [
    "maindf.info()"
   ]
  },
  {
   "cell_type": "code",
   "execution_count": 14,
   "id": "8616aff1",
   "metadata": {},
   "outputs": [],
   "source": [
    "maindf"
   ]
  },
  {
   "cell_type": "markdown",
   "id": "1ef47344",
   "metadata": {},
   "source": [
    "### 1. What product sold the most? "
   ]
  },
  {
   "cell_type": "code",
   "execution_count": 15,
   "id": "e003570a",
   "metadata": {
    "scrolled": true
   },
   "outputs": [],
   "source": [
    "best_product = maindf.groupby('Product')\n",
    "products = [product for product, maindf in best_product]\n",
    "quantity_sold = best_product['Quantity Ordered'].sum()\n",
    "\n",
    "plt.barh(products, quantity_sold,color=['#D0693A','#3B8EA5'])\n",
    "plt.xlabel('Quantity Sold')\n",
    "plt.ylabel('Product')\n",
    "plt.title('Quantity Sold for Each Product')\n",
    "plt.show()"
   ]
  },
  {
   "cell_type": "markdown",
   "id": "4201bf33",
   "metadata": {
    "scrolled": true
   },
   "source": [
    "### 3. Best time to display advertisements in the day."
   ]
  },
  {
   "cell_type": "code",
   "execution_count": 16,
   "id": "f81f4ebe",
   "metadata": {},
   "outputs": [],
   "source": [
    "# heatmap\n",
    "best_hours = maindf.groupby('Hour') \n",
    "hour = [hour for hour, maindf in best_hours]\n",
    "count_hour = best_hours['Hour'].count()\n",
    "plt.plot(hour,count_hour, marker='o',markersize = 4)\n",
    "plt.xticks(hour)\n",
    "plt.xlabel(\"Hour of the day\")\n",
    "plt.ylabel(\"Orders\")\n",
    "plt.grid(True, linestyle='--', alpha=0.8)\n",
    "plt.show()"
   ]
  },
  {
   "cell_type": "markdown",
   "id": "b4ec2827",
   "metadata": {},
   "source": [
    "### 5. Best month for sales"
   ]
  },
  {
   "cell_type": "code",
   "execution_count": 17,
   "id": "ab5fdf98",
   "metadata": {},
   "outputs": [],
   "source": [
    "best_month = maindf.groupby('Month').sum()\n",
    "months = range(1,13)\n",
    "plt.bar(months,best_month['Sales'])\n",
    "plt.xticks(months)\n",
    "plt.xlabel('Month')\n",
    "plt.ylabel('Sales ($)')\n",
    "plt.show()"
   ]
  },
  {
   "cell_type": "markdown",
   "id": "12400e60",
   "metadata": {},
   "source": [
    "### What city sold the most products?"
   ]
  },
  {
   "cell_type": "code",
   "execution_count": 18,
   "id": "101300dd",
   "metadata": {},
   "outputs": [],
   "source": [
    "best_city = maindf.groupby('City State')\n",
    "city = [city for city, maindf in best_city]\n",
    "city_sales = best_city['Sales'].sum()\n",
    "\n",
    "plt.bar(city, city_sales,color=['#D0693A','#3B8EA5'])\n",
    "plt.xticks(city, rotation = 65)\n",
    "plt.xlabel('City')\n",
    "plt.ylabel('Sales ($)')\n",
    "plt.title('Sales')\n",
    "plt.show()"
   ]
  },
  {
   "cell_type": "markdown",
   "id": "cd221ef3",
   "metadata": {},
   "source": [
    "### Sales Trend"
   ]
  },
  {
   "cell_type": "code",
   "execution_count": 19,
   "id": "72693b9d",
   "metadata": {
    "scrolled": true
   },
   "outputs": [],
   "source": [
    "sns.relplot(\n",
    "    data=maindf, \n",
    "    x=\"Month\", y=\"Sales\", hue=\"City State\", \n",
    "    height=5, aspect=2,\n",
    "    kind=\"line\",\n",
    "    errorbar=None\n",
    ")"
   ]
  },
  {
   "cell_type": "code",
   "execution_count": 20,
   "id": "41d5cfcd",
   "metadata": {},
   "outputs": [],
   "source": [
    "maindf['Weekend'] = maindf['MonthDay'].isin([5, 6])\n",
    "sales_by_weekend = maindf.groupby('Weekend')['Sales'].sum()\n",
    "# Create a bar plot to visualize the sales variation between weekdays and weekends\n",
    "sales_by_weekend.plot(kind='bar', color=['#3B8EA5', '#D0693A'], alpha=0.9)\n",
    "\n",
    "# Customize the plot labels and title\n",
    "plt.xlabel('Week')\n",
    "plt.ylabel('Sales')\n",
    "plt.title('Sales Variation: Weekdays vs. Weekends')\n",
    "\n",
    "# Customize the x-axis tick labels\n",
    "plt.xticks([0, 1], ['Weekday', 'Weekend'],rotation = 'horizontal')\n",
    "\n",
    "# Display the plot\n",
    "plt.show()"
   ]
  },
  {
   "cell_type": "code",
   "execution_count": 21,
   "id": "b433b7f6",
   "metadata": {},
   "outputs": [],
   "source": [
    "best_city = maindf.groupby('City State')\n",
    "city = [city for city, maindf in best_city]\n",
    "city_sales = best_city['Sales'].sum()\n",
    "\n",
    "plt.bar(city, city_sales,color=['#D0693A','#3B8EA5'])\n",
    "plt.xticks(city, rotation = 65)\n",
    "plt.xlabel('City')\n",
    "plt.ylabel('Sales ($)')\n",
    "plt.title('Sales')\n",
    "plt.show()"
   ]
  },
  {
   "cell_type": "code",
   "execution_count": 22,
   "id": "69345614",
   "metadata": {
    "scrolled": true
   },
   "outputs": [],
   "source": [
    "maindf.info()\n",
    "print(maindf.columns)"
   ]
  },
  {
   "cell_type": "code",
   "execution_count": 23,
   "id": "92aab2f8",
   "metadata": {},
   "outputs": [],
   "source": [
    "maindf"
   ]
  },
  {
   "cell_type": "code",
   "execution_count": 24,
   "id": "5e05cc62",
   "metadata": {
    "scrolled": true
   },
   "outputs": [],
   "source": [
    "barrace = maindf.pivot_table(index=['Date'],columns=['City State'], values='Sales',aggfunc=\"sum\",fill_value=0)\n",
    "barrace"
   ]
  },
  {
   "cell_type": "code",
   "execution_count": 25,
   "id": "ddbb34dc",
   "metadata": {},
   "outputs": [],
   "source": [
    "barrace.info()"
   ]
  },
  {
   "cell_type": "code",
   "execution_count": null,
   "id": "0f9eed4c",
   "metadata": {
    "scrolled": true
   },
   "outputs": [],
   "source": [
    "import bar_chart_race as bcr\n",
    "bcr.bar_chart_race(\n",
    "    df=barrace,\n",
    "    filename='Salesbycity.mp4',  # Save as a video file\n",
    "    orientation='h',  # Horizontal bars\n",
    "    sort='desc',  # Sort bars by descending order\n",
    "    n_bars=10,  # Number of bars to display\n",
    "    fixed_order=False,  # Allow bars to change order\n",
    "    fixed_max=True,  # Fixed maximum value for the bars\n",
    "    steps_per_period=10,  # Number of frames per period\n",
    "    interpolate_period=False,  # No interpolation between periods\n",
    "    label_bars=True,  # Show labels on bars\n",
    "    bar_size=0.95,  # Bar width\n",
    "    period_label={'x': .99, 'y': .25, 'ha': 'right', 'va': 'center'},  # Position of the period label\n",
    "    period_fmt='%B %d, %Y',  # Period format\n",
    "    period_summary_func=lambda v, r: {'x': .99, 'y': .18,\n",
    "                                      's': f'Total Sales: {v.nlargest(6).sum():,.0f}',\n",
    "                                      'ha': 'right', 'size': 8, 'family': 'Arial'},  # Show total sales\n",
    "    perpendicular_bar_func='median',  # Bars' position is calculated based on median\n",
    "    period_length=500,  # Duration of each period (in milliseconds)\n",
    "    figsize=(5, 3),  # Size of the output figure\n",
    "    dpi=144,  # Resolution of the image\n",
    "    cmap='dark12',  # Color map for the bars\n",
    "    title='Sales by City',  # Title of the chart\n",
    "    title_size=14,  # Size of the title\n",
    "    bar_label_size=7,  # Size of the bar labels\n",
    "    tick_label_size=7,  # Size of the tick labels\n",
    "    shared_fontdict={'family': 'Arial', 'color': '.1'},  # Shared font for the labels\n",
    "    scale='linear',  # Linear scale for the chart\n",
    "    writer=None,  # Writer for the video (set to None to not use a writer)\n",
    "    fig=None,  # No specific figure to use\n",
    "    bar_kwargs={'alpha': .7},  # Transparency for the bars\n",
    "    filter_column_colors=False  # Don't filter colors of the columns\n",
    ")"
   ]
  },
  {
   "cell_type": "code",
   "execution_count": null,
   "id": "8e94ca0a",
   "metadata": {},
   "outputs": [],
   "source": []
  }
 ],
 "metadata": {
  "kernelspec": {
   "display_name": "Python 3 (ipykernel)",
   "language": "python",
   "name": "python3"
  },
  "language_info": {
   "codemirror_mode": {
    "name": "ipython",
    "version": 3
   },
   "file_extension": ".py",
   "mimetype": "text/x-python",
   "name": "python",
   "nbconvert_exporter": "python",
   "pygments_lexer": "ipython3",
   "version": "3.11.3"
  }
 },
 "nbformat": 4,
 "nbformat_minor": 5
}

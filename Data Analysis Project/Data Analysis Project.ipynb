{
 "cells": [
  {
   "cell_type": "markdown",
   "id": "56104023",
   "metadata": {},
   "source": [
    "# Sales Analysis"
   ]
  },
  {
   "cell_type": "markdown",
   "id": "3e2bb8e0",
   "metadata": {},
   "source": [
    "## Libraries"
   ]
  },
  {
   "cell_type": "code",
   "execution_count": 1,
   "id": "86c8653c",
   "metadata": {},
   "outputs": [],
   "source": [
    "import pandas as pd\n",
    "import numpy as np\n",
    "import matplotlib.pyplot as plt\n",
    "import seaborn as sns\n",
    "import glob\n",
    "import matplotlib.pyplot as plt\n",
    "import plotly.express as px\n",
    "import plotly.graph_objects as go"
   ]
  },
  {
   "cell_type": "markdown",
   "id": "af3e99aa",
   "metadata": {},
   "source": [
    "## Reading CSVs"
   ]
  },
  {
   "cell_type": "code",
   "execution_count": 2,
   "id": "45414795",
   "metadata": {},
   "outputs": [
    {
     "name": "stdout",
     "output_type": "stream",
     "text": [
      "D:\\ANISH\\Portfolio\\Python Projects\\Data Analysis Project\\Dataset\\Sales_April_2019.csv\n",
      "D:\\ANISH\\Portfolio\\Python Projects\\Data Analysis Project\\Dataset\\Sales_August_2019.csv\n",
      "D:\\ANISH\\Portfolio\\Python Projects\\Data Analysis Project\\Dataset\\Sales_December_2019.csv\n",
      "D:\\ANISH\\Portfolio\\Python Projects\\Data Analysis Project\\Dataset\\Sales_February_2019.csv\n",
      "D:\\ANISH\\Portfolio\\Python Projects\\Data Analysis Project\\Dataset\\Sales_January_2019.csv\n",
      "D:\\ANISH\\Portfolio\\Python Projects\\Data Analysis Project\\Dataset\\Sales_July_2019.csv\n",
      "D:\\ANISH\\Portfolio\\Python Projects\\Data Analysis Project\\Dataset\\Sales_June_2019.csv\n",
      "D:\\ANISH\\Portfolio\\Python Projects\\Data Analysis Project\\Dataset\\Sales_March_2019.csv\n",
      "D:\\ANISH\\Portfolio\\Python Projects\\Data Analysis Project\\Dataset\\Sales_May_2019.csv\n",
      "D:\\ANISH\\Portfolio\\Python Projects\\Data Analysis Project\\Dataset\\Sales_November_2019.csv\n",
      "D:\\ANISH\\Portfolio\\Python Projects\\Data Analysis Project\\Dataset\\Sales_October_2019.csv\n",
      "D:\\ANISH\\Portfolio\\Python Projects\\Data Analysis Project\\Dataset\\Sales_September_2019.csv\n"
     ]
    },
    {
     "name": "stderr",
     "output_type": "stream",
     "text": [
      "<>:1: SyntaxWarning: invalid escape sequence '\\A'\n",
      "<>:1: SyntaxWarning: invalid escape sequence '\\A'\n",
      "C:\\Users\\Anish\\AppData\\Local\\Temp\\ipykernel_9972\\4147427918.py:1: SyntaxWarning: invalid escape sequence '\\A'\n",
      "  location = 'D:\\ANISH\\Portfolio\\Python Projects\\Data Analysis Project\\Dataset/*.csv'\n"
     ]
    }
   ],
   "source": [
    "location = 'D:\\ANISH\\Portfolio\\Python Projects\\Data Analysis Project\\Dataset/*.csv'\n",
    "for file in glob.glob(location):\n",
    "    print(file)"
   ]
  },
  {
   "cell_type": "code",
   "execution_count": 3,
   "id": "45dc3704",
   "metadata": {},
   "outputs": [
    {
     "name": "stderr",
     "output_type": "stream",
     "text": [
      "<>:1: SyntaxWarning: invalid escape sequence '\\A'\n",
      "<>:1: SyntaxWarning: invalid escape sequence '\\A'\n",
      "C:\\Users\\Anish\\AppData\\Local\\Temp\\ipykernel_9972\\1606692994.py:1: SyntaxWarning: invalid escape sequence '\\A'\n",
      "  df = pd.read_csv('D:\\ANISH\\Portfolio\\Python Projects\\Data Analysis Project\\Dataset\\Sales_January_2019.csv')\n"
     ]
    },
    {
     "data": {
      "text/html": [
       "<div>\n",
       "<style scoped>\n",
       "    .dataframe tbody tr th:only-of-type {\n",
       "        vertical-align: middle;\n",
       "    }\n",
       "\n",
       "    .dataframe tbody tr th {\n",
       "        vertical-align: top;\n",
       "    }\n",
       "\n",
       "    .dataframe thead th {\n",
       "        text-align: right;\n",
       "    }\n",
       "</style>\n",
       "<table border=\"1\" class=\"dataframe\">\n",
       "  <thead>\n",
       "    <tr style=\"text-align: right;\">\n",
       "      <th></th>\n",
       "      <th>Order ID</th>\n",
       "      <th>Product</th>\n",
       "      <th>Quantity Ordered</th>\n",
       "      <th>Price Each</th>\n",
       "      <th>Order Date</th>\n",
       "      <th>Purchase Address</th>\n",
       "    </tr>\n",
       "  </thead>\n",
       "  <tbody>\n",
       "    <tr>\n",
       "      <th>0</th>\n",
       "      <td>141234</td>\n",
       "      <td>iPhone</td>\n",
       "      <td>1</td>\n",
       "      <td>700</td>\n",
       "      <td>01/22/19 21:25</td>\n",
       "      <td>944 Walnut St, Boston, MA 02215</td>\n",
       "    </tr>\n",
       "    <tr>\n",
       "      <th>1</th>\n",
       "      <td>141235</td>\n",
       "      <td>Lightning Charging Cable</td>\n",
       "      <td>1</td>\n",
       "      <td>14.95</td>\n",
       "      <td>01/28/19 14:15</td>\n",
       "      <td>185 Maple St, Portland, OR 97035</td>\n",
       "    </tr>\n",
       "    <tr>\n",
       "      <th>2</th>\n",
       "      <td>141236</td>\n",
       "      <td>Wired Headphones</td>\n",
       "      <td>2</td>\n",
       "      <td>11.99</td>\n",
       "      <td>01/17/19 13:33</td>\n",
       "      <td>538 Adams St, San Francisco, CA 94016</td>\n",
       "    </tr>\n",
       "    <tr>\n",
       "      <th>3</th>\n",
       "      <td>141237</td>\n",
       "      <td>27in FHD Monitor</td>\n",
       "      <td>1</td>\n",
       "      <td>149.99</td>\n",
       "      <td>01/05/19 20:33</td>\n",
       "      <td>738 10th St, Los Angeles, CA 90001</td>\n",
       "    </tr>\n",
       "    <tr>\n",
       "      <th>4</th>\n",
       "      <td>141238</td>\n",
       "      <td>Wired Headphones</td>\n",
       "      <td>1</td>\n",
       "      <td>11.99</td>\n",
       "      <td>01/25/19 11:59</td>\n",
       "      <td>387 10th St, Austin, TX 73301</td>\n",
       "    </tr>\n",
       "  </tbody>\n",
       "</table>\n",
       "</div>"
      ],
      "text/plain": [
       "  Order ID                   Product Quantity Ordered Price Each  \\\n",
       "0   141234                    iPhone                1        700   \n",
       "1   141235  Lightning Charging Cable                1      14.95   \n",
       "2   141236          Wired Headphones                2      11.99   \n",
       "3   141237          27in FHD Monitor                1     149.99   \n",
       "4   141238          Wired Headphones                1      11.99   \n",
       "\n",
       "       Order Date                       Purchase Address  \n",
       "0  01/22/19 21:25        944 Walnut St, Boston, MA 02215  \n",
       "1  01/28/19 14:15       185 Maple St, Portland, OR 97035  \n",
       "2  01/17/19 13:33  538 Adams St, San Francisco, CA 94016  \n",
       "3  01/05/19 20:33     738 10th St, Los Angeles, CA 90001  \n",
       "4  01/25/19 11:59          387 10th St, Austin, TX 73301  "
      ]
     },
     "execution_count": 3,
     "metadata": {},
     "output_type": "execute_result"
    }
   ],
   "source": [
    "df = pd.read_csv('D:\\ANISH\\Portfolio\\Python Projects\\Data Analysis Project\\Dataset\\Sales_January_2019.csv')\n",
    "df.head()"
   ]
  },
  {
   "cell_type": "markdown",
   "id": "80287796",
   "metadata": {},
   "source": [
    "## Function to combine CSV files"
   ]
  },
  {
   "cell_type": "code",
   "execution_count": 4,
   "id": "fba94ec2",
   "metadata": {},
   "outputs": [
    {
     "name": "stderr",
     "output_type": "stream",
     "text": [
      "<>:8: SyntaxWarning: invalid escape sequence '\\A'\n",
      "<>:8: SyntaxWarning: invalid escape sequence '\\A'\n",
      "C:\\Users\\Anish\\AppData\\Local\\Temp\\ipykernel_9972\\3340223505.py:8: SyntaxWarning: invalid escape sequence '\\A'\n",
      "  filepath = 'D:\\ANISH\\Portfolio\\Python Projects\\Data Analysis Project\\Dataset/*'\n"
     ]
    },
    {
     "data": {
      "text/plain": [
       "(186849, 6)"
      ]
     },
     "execution_count": 4,
     "metadata": {},
     "output_type": "execute_result"
    }
   ],
   "source": [
    "def combinedata(x):\n",
    "        dfs = []\n",
    "        for file in glob.glob(x):\n",
    "            dfs.append(pd.read_csv(file))\n",
    "            combineddfs = pd.concat(dfs,ignore_index=True)\n",
    "        return combineddfs\n",
    "\n",
    "filepath = 'D:\\ANISH\\Portfolio\\Python Projects\\Data Analysis Project\\Dataset/*'\n",
    "\n",
    "maindf = combinedata(filepath)\n",
    "maindf.shape"
   ]
  },
  {
   "cell_type": "markdown",
   "id": "52a077db",
   "metadata": {},
   "source": [
    "## Final combined dataframe"
   ]
  },
  {
   "cell_type": "code",
   "execution_count": 5,
   "id": "8fdf34d4",
   "metadata": {
    "scrolled": true
   },
   "outputs": [
    {
     "data": {
      "text/html": [
       "<div>\n",
       "<style scoped>\n",
       "    .dataframe tbody tr th:only-of-type {\n",
       "        vertical-align: middle;\n",
       "    }\n",
       "\n",
       "    .dataframe tbody tr th {\n",
       "        vertical-align: top;\n",
       "    }\n",
       "\n",
       "    .dataframe thead th {\n",
       "        text-align: right;\n",
       "    }\n",
       "</style>\n",
       "<table border=\"1\" class=\"dataframe\">\n",
       "  <thead>\n",
       "    <tr style=\"text-align: right;\">\n",
       "      <th></th>\n",
       "      <th>Order ID</th>\n",
       "      <th>Product</th>\n",
       "      <th>Quantity Ordered</th>\n",
       "      <th>Price Each</th>\n",
       "      <th>Order Date</th>\n",
       "      <th>Purchase Address</th>\n",
       "    </tr>\n",
       "  </thead>\n",
       "  <tbody>\n",
       "    <tr>\n",
       "      <th>0</th>\n",
       "      <td>176558</td>\n",
       "      <td>USB-C Charging Cable</td>\n",
       "      <td>2</td>\n",
       "      <td>11.95</td>\n",
       "      <td>04/19/19 08:46</td>\n",
       "      <td>917 1st St, Dallas, TX 75001</td>\n",
       "    </tr>\n",
       "    <tr>\n",
       "      <th>1</th>\n",
       "      <td>176559</td>\n",
       "      <td>Bose SoundSport Headphones</td>\n",
       "      <td>1</td>\n",
       "      <td>99.99</td>\n",
       "      <td>04-07-2019 22:30</td>\n",
       "      <td>682 Chestnut St, Boston, MA 02215</td>\n",
       "    </tr>\n",
       "    <tr>\n",
       "      <th>2</th>\n",
       "      <td>176560</td>\n",
       "      <td>Google Phone</td>\n",
       "      <td>1</td>\n",
       "      <td>600</td>\n",
       "      <td>04-12-2019 14:38</td>\n",
       "      <td>669 Spruce St, Los Angeles, CA 90001</td>\n",
       "    </tr>\n",
       "    <tr>\n",
       "      <th>3</th>\n",
       "      <td>176560</td>\n",
       "      <td>Wired Headphones</td>\n",
       "      <td>1</td>\n",
       "      <td>11.99</td>\n",
       "      <td>04-12-2019 14:38</td>\n",
       "      <td>669 Spruce St, Los Angeles, CA 90001</td>\n",
       "    </tr>\n",
       "    <tr>\n",
       "      <th>4</th>\n",
       "      <td>176561</td>\n",
       "      <td>Wired Headphones</td>\n",
       "      <td>1</td>\n",
       "      <td>11.99</td>\n",
       "      <td>04/30/19 09:27</td>\n",
       "      <td>333 8th St, Los Angeles, CA 90001</td>\n",
       "    </tr>\n",
       "    <tr>\n",
       "      <th>...</th>\n",
       "      <td>...</td>\n",
       "      <td>...</td>\n",
       "      <td>...</td>\n",
       "      <td>...</td>\n",
       "      <td>...</td>\n",
       "      <td>...</td>\n",
       "    </tr>\n",
       "    <tr>\n",
       "      <th>186844</th>\n",
       "      <td>259353</td>\n",
       "      <td>AAA Batteries (4-pack)</td>\n",
       "      <td>3</td>\n",
       "      <td>2.99</td>\n",
       "      <td>09/17/19 20:56</td>\n",
       "      <td>840 Highland St, Los Angeles, CA 90001</td>\n",
       "    </tr>\n",
       "    <tr>\n",
       "      <th>186845</th>\n",
       "      <td>259354</td>\n",
       "      <td>iPhone</td>\n",
       "      <td>1</td>\n",
       "      <td>700</td>\n",
       "      <td>09/01/19 16:00</td>\n",
       "      <td>216 Dogwood St, San Francisco, CA 94016</td>\n",
       "    </tr>\n",
       "    <tr>\n",
       "      <th>186846</th>\n",
       "      <td>259355</td>\n",
       "      <td>iPhone</td>\n",
       "      <td>1</td>\n",
       "      <td>700</td>\n",
       "      <td>09/23/19 07:39</td>\n",
       "      <td>220 12th St, San Francisco, CA 94016</td>\n",
       "    </tr>\n",
       "    <tr>\n",
       "      <th>186847</th>\n",
       "      <td>259356</td>\n",
       "      <td>34in Ultrawide Monitor</td>\n",
       "      <td>1</td>\n",
       "      <td>379.99</td>\n",
       "      <td>09/19/19 17:30</td>\n",
       "      <td>511 Forest St, San Francisco, CA 94016</td>\n",
       "    </tr>\n",
       "    <tr>\n",
       "      <th>186848</th>\n",
       "      <td>259357</td>\n",
       "      <td>USB-C Charging Cable</td>\n",
       "      <td>1</td>\n",
       "      <td>11.95</td>\n",
       "      <td>09/30/19 00:18</td>\n",
       "      <td>250 Meadow St, San Francisco, CA 94016</td>\n",
       "    </tr>\n",
       "  </tbody>\n",
       "</table>\n",
       "<p>186849 rows × 6 columns</p>\n",
       "</div>"
      ],
      "text/plain": [
       "       Order ID                     Product Quantity Ordered Price Each  \\\n",
       "0        176558        USB-C Charging Cable                2      11.95   \n",
       "1        176559  Bose SoundSport Headphones                1      99.99   \n",
       "2        176560                Google Phone                1        600   \n",
       "3        176560            Wired Headphones                1      11.99   \n",
       "4        176561            Wired Headphones                1      11.99   \n",
       "...         ...                         ...              ...        ...   \n",
       "186844   259353      AAA Batteries (4-pack)                3       2.99   \n",
       "186845   259354                      iPhone                1        700   \n",
       "186846   259355                      iPhone                1        700   \n",
       "186847   259356      34in Ultrawide Monitor                1     379.99   \n",
       "186848   259357        USB-C Charging Cable                1      11.95   \n",
       "\n",
       "              Order Date                         Purchase Address  \n",
       "0         04/19/19 08:46             917 1st St, Dallas, TX 75001  \n",
       "1       04-07-2019 22:30        682 Chestnut St, Boston, MA 02215  \n",
       "2       04-12-2019 14:38     669 Spruce St, Los Angeles, CA 90001  \n",
       "3       04-12-2019 14:38     669 Spruce St, Los Angeles, CA 90001  \n",
       "4         04/30/19 09:27        333 8th St, Los Angeles, CA 90001  \n",
       "...                  ...                                      ...  \n",
       "186844    09/17/19 20:56   840 Highland St, Los Angeles, CA 90001  \n",
       "186845    09/01/19 16:00  216 Dogwood St, San Francisco, CA 94016  \n",
       "186846    09/23/19 07:39     220 12th St, San Francisco, CA 94016  \n",
       "186847    09/19/19 17:30   511 Forest St, San Francisco, CA 94016  \n",
       "186848    09/30/19 00:18   250 Meadow St, San Francisco, CA 94016  \n",
       "\n",
       "[186849 rows x 6 columns]"
      ]
     },
     "execution_count": 5,
     "metadata": {},
     "output_type": "execute_result"
    }
   ],
   "source": [
    "maindf"
   ]
  },
  {
   "cell_type": "markdown",
   "id": "ccb610cf",
   "metadata": {},
   "source": [
    "# Cleaning dataframe"
   ]
  },
  {
   "cell_type": "markdown",
   "id": "14414777",
   "metadata": {},
   "source": [
    "### Removing NULLS"
   ]
  },
  {
   "cell_type": "code",
   "execution_count": 6,
   "id": "f64460c4",
   "metadata": {},
   "outputs": [
    {
     "data": {
      "text/plain": [
       "Order ID            0\n",
       "Product             0\n",
       "Quantity Ordered    0\n",
       "Price Each          0\n",
       "Order Date          0\n",
       "Purchase Address    0\n",
       "dtype: int64"
      ]
     },
     "execution_count": 6,
     "metadata": {},
     "output_type": "execute_result"
    }
   ],
   "source": [
    "maindf.isna().sum()\n",
    "nan = maindf[maindf.isna().any(axis=1)]\n",
    "maindf = maindf.dropna(how='all')\n",
    "maindf.isna().sum()"
   ]
  },
  {
   "cell_type": "markdown",
   "id": "5d443b80",
   "metadata": {},
   "source": [
    "### Removing Column names from rows"
   ]
  },
  {
   "cell_type": "code",
   "execution_count": 7,
   "id": "78507313",
   "metadata": {},
   "outputs": [
    {
     "data": {
      "text/plain": [
       "Order ID            355\n",
       "Product             355\n",
       "Quantity Ordered    355\n",
       "Price Each          355\n",
       "Order Date          355\n",
       "Purchase Address    355\n",
       "dtype: int64"
      ]
     },
     "execution_count": 7,
     "metadata": {},
     "output_type": "execute_result"
    }
   ],
   "source": [
    "maindf[maindf['Order ID'] == \"Order ID\"]\n",
    "maindf[maindf['Order ID'] == \"Order ID\"].count()"
   ]
  },
  {
   "cell_type": "code",
   "execution_count": 8,
   "id": "4a5f8191",
   "metadata": {},
   "outputs": [
    {
     "data": {
      "text/plain": [
       "Order ID            0\n",
       "Product             0\n",
       "Quantity Ordered    0\n",
       "Price Each          0\n",
       "Order Date          0\n",
       "Purchase Address    0\n",
       "dtype: int64"
      ]
     },
     "execution_count": 8,
     "metadata": {},
     "output_type": "execute_result"
    }
   ],
   "source": [
    "maindf = maindf.drop(maindf[maindf['Order ID'] == 'Order ID'].index)\n",
    "maindf[maindf['Order ID'] == \"Order ID\"].count()"
   ]
  },
  {
   "cell_type": "markdown",
   "id": "b37de92d",
   "metadata": {},
   "source": [
    "## Changing Datatypes to increase speed"
   ]
  },
  {
   "cell_type": "code",
   "execution_count": 9,
   "id": "cc8c06a0",
   "metadata": {
    "scrolled": true
   },
   "outputs": [
    {
     "name": "stderr",
     "output_type": "stream",
     "text": [
      "C:\\Users\\Anish\\AppData\\Local\\Temp\\ipykernel_9972\\4067419981.py:4: UserWarning: Could not infer format, so each element will be parsed individually, falling back to `dateutil`. To ensure parsing is consistent and as-expected, please specify a format.\n",
      "  maindf['Order Date'] = pd.to_datetime(maindf['Order Date'])\n"
     ]
    },
    {
     "name": "stdout",
     "output_type": "stream",
     "text": [
      "<class 'pandas.core.frame.DataFrame'>\n",
      "Index: 185950 entries, 0 to 186848\n",
      "Data columns (total 6 columns):\n",
      " #   Column            Non-Null Count   Dtype         \n",
      "---  ------            --------------   -----         \n",
      " 0   Order ID          185950 non-null  int64         \n",
      " 1   Product           185950 non-null  object        \n",
      " 2   Quantity Ordered  185950 non-null  int64         \n",
      " 3   Price Each        185950 non-null  float64       \n",
      " 4   Order Date        185950 non-null  datetime64[ns]\n",
      " 5   Purchase Address  185950 non-null  object        \n",
      "dtypes: datetime64[ns](1), float64(1), int64(2), object(2)\n",
      "memory usage: 9.9+ MB\n"
     ]
    }
   ],
   "source": [
    "maindf['Quantity Ordered'] = pd.to_numeric(maindf['Quantity Ordered'])\n",
    "maindf['Price Each'] = pd.to_numeric(maindf['Price Each'])\n",
    "maindf['Order ID'] = pd.to_numeric(maindf['Order ID'])\n",
    "maindf['Order Date'] = pd.to_datetime(maindf['Order Date'])\n",
    "maindf.info()"
   ]
  },
  {
   "cell_type": "markdown",
   "id": "cb0c77fb",
   "metadata": {},
   "source": [
    "## adding columns"
   ]
  },
  {
   "cell_type": "code",
   "execution_count": 10,
   "id": "e9bcd047",
   "metadata": {},
   "outputs": [],
   "source": [
    "#Rename Order Date to Order Datetime\n",
    "maindf.rename(columns={'Order Date': 'Order DateTime'}, inplace=True)\n",
    "\n",
    "#Date\n",
    "maindf['Date'] = maindf['Order DateTime'].dt.date\n",
    "\n",
    "# Month column\n",
    "maindf['Month'] = maindf['Order DateTime'].dt.month\n",
    "\n",
    "# weekday\n",
    "maindf['Weekday'] = maindf['Order DateTime'].dt.weekday\n",
    "\n",
    "# Day column\n",
    "maindf['MonthDay'] = maindf['Order DateTime'].dt.day\n",
    "\n",
    "# Hour column\n",
    "maindf['Hour'] = maindf['Order DateTime'].dt.hour\n",
    "\n",
    "# Minute column\n",
    "maindf['Minute'] = maindf['Order DateTime'].dt.minute"
   ]
  },
  {
   "cell_type": "code",
   "execution_count": 11,
   "id": "634b7f56",
   "metadata": {},
   "outputs": [],
   "source": [
    "# Sales Column\n",
    "maindf['Sales'] = maindf['Quantity Ordered'] * maindf['Price Each']"
   ]
  },
  {
   "cell_type": "code",
   "execution_count": 12,
   "id": "26030c52",
   "metadata": {},
   "outputs": [],
   "source": [
    "# City State column\n",
    "# City State\n",
    "def get_city_state(x):\n",
    "    return f\"{x.split(', ')[1]} {x.split(', ')[2].split(' ')[0]}\"\n",
    "\n",
    "maindf['City State'] = maindf['Purchase Address'].apply(lambda x: get_city_state(x))"
   ]
  },
  {
   "cell_type": "code",
   "execution_count": 13,
   "id": "a500b790",
   "metadata": {},
   "outputs": [
    {
     "name": "stdout",
     "output_type": "stream",
     "text": [
      "<class 'pandas.core.frame.DataFrame'>\n",
      "Index: 185950 entries, 0 to 186848\n",
      "Data columns (total 14 columns):\n",
      " #   Column            Non-Null Count   Dtype         \n",
      "---  ------            --------------   -----         \n",
      " 0   Order ID          185950 non-null  int64         \n",
      " 1   Product           185950 non-null  object        \n",
      " 2   Quantity Ordered  185950 non-null  int64         \n",
      " 3   Price Each        185950 non-null  float64       \n",
      " 4   Order DateTime    185950 non-null  datetime64[ns]\n",
      " 5   Purchase Address  185950 non-null  object        \n",
      " 6   Date              185950 non-null  object        \n",
      " 7   Month             185950 non-null  int32         \n",
      " 8   Weekday           185950 non-null  int32         \n",
      " 9   MonthDay          185950 non-null  int32         \n",
      " 10  Hour              185950 non-null  int32         \n",
      " 11  Minute            185950 non-null  int32         \n",
      " 12  Sales             185950 non-null  float64       \n",
      " 13  City State        185950 non-null  object        \n",
      "dtypes: datetime64[ns](1), float64(2), int32(5), int64(2), object(4)\n",
      "memory usage: 17.7+ MB\n"
     ]
    }
   ],
   "source": [
    "maindf.info()"
   ]
  },
  {
   "cell_type": "code",
   "execution_count": 14,
   "id": "8616aff1",
   "metadata": {},
   "outputs": [
    {
     "data": {
      "text/html": [
       "<div>\n",
       "<style scoped>\n",
       "    .dataframe tbody tr th:only-of-type {\n",
       "        vertical-align: middle;\n",
       "    }\n",
       "\n",
       "    .dataframe tbody tr th {\n",
       "        vertical-align: top;\n",
       "    }\n",
       "\n",
       "    .dataframe thead th {\n",
       "        text-align: right;\n",
       "    }\n",
       "</style>\n",
       "<table border=\"1\" class=\"dataframe\">\n",
       "  <thead>\n",
       "    <tr style=\"text-align: right;\">\n",
       "      <th></th>\n",
       "      <th>Order ID</th>\n",
       "      <th>Product</th>\n",
       "      <th>Quantity Ordered</th>\n",
       "      <th>Price Each</th>\n",
       "      <th>Order DateTime</th>\n",
       "      <th>Purchase Address</th>\n",
       "      <th>Date</th>\n",
       "      <th>Month</th>\n",
       "      <th>Weekday</th>\n",
       "      <th>MonthDay</th>\n",
       "      <th>Hour</th>\n",
       "      <th>Minute</th>\n",
       "      <th>Sales</th>\n",
       "      <th>City State</th>\n",
       "    </tr>\n",
       "  </thead>\n",
       "  <tbody>\n",
       "    <tr>\n",
       "      <th>0</th>\n",
       "      <td>176558</td>\n",
       "      <td>USB-C Charging Cable</td>\n",
       "      <td>2</td>\n",
       "      <td>11.95</td>\n",
       "      <td>2019-04-19 08:46:00</td>\n",
       "      <td>917 1st St, Dallas, TX 75001</td>\n",
       "      <td>2019-04-19</td>\n",
       "      <td>4</td>\n",
       "      <td>4</td>\n",
       "      <td>19</td>\n",
       "      <td>8</td>\n",
       "      <td>46</td>\n",
       "      <td>23.90</td>\n",
       "      <td>Dallas TX</td>\n",
       "    </tr>\n",
       "    <tr>\n",
       "      <th>1</th>\n",
       "      <td>176559</td>\n",
       "      <td>Bose SoundSport Headphones</td>\n",
       "      <td>1</td>\n",
       "      <td>99.99</td>\n",
       "      <td>2019-04-07 22:30:00</td>\n",
       "      <td>682 Chestnut St, Boston, MA 02215</td>\n",
       "      <td>2019-04-07</td>\n",
       "      <td>4</td>\n",
       "      <td>6</td>\n",
       "      <td>7</td>\n",
       "      <td>22</td>\n",
       "      <td>30</td>\n",
       "      <td>99.99</td>\n",
       "      <td>Boston MA</td>\n",
       "    </tr>\n",
       "    <tr>\n",
       "      <th>2</th>\n",
       "      <td>176560</td>\n",
       "      <td>Google Phone</td>\n",
       "      <td>1</td>\n",
       "      <td>600.00</td>\n",
       "      <td>2019-04-12 14:38:00</td>\n",
       "      <td>669 Spruce St, Los Angeles, CA 90001</td>\n",
       "      <td>2019-04-12</td>\n",
       "      <td>4</td>\n",
       "      <td>4</td>\n",
       "      <td>12</td>\n",
       "      <td>14</td>\n",
       "      <td>38</td>\n",
       "      <td>600.00</td>\n",
       "      <td>Los Angeles CA</td>\n",
       "    </tr>\n",
       "    <tr>\n",
       "      <th>3</th>\n",
       "      <td>176560</td>\n",
       "      <td>Wired Headphones</td>\n",
       "      <td>1</td>\n",
       "      <td>11.99</td>\n",
       "      <td>2019-04-12 14:38:00</td>\n",
       "      <td>669 Spruce St, Los Angeles, CA 90001</td>\n",
       "      <td>2019-04-12</td>\n",
       "      <td>4</td>\n",
       "      <td>4</td>\n",
       "      <td>12</td>\n",
       "      <td>14</td>\n",
       "      <td>38</td>\n",
       "      <td>11.99</td>\n",
       "      <td>Los Angeles CA</td>\n",
       "    </tr>\n",
       "    <tr>\n",
       "      <th>4</th>\n",
       "      <td>176561</td>\n",
       "      <td>Wired Headphones</td>\n",
       "      <td>1</td>\n",
       "      <td>11.99</td>\n",
       "      <td>2019-04-30 09:27:00</td>\n",
       "      <td>333 8th St, Los Angeles, CA 90001</td>\n",
       "      <td>2019-04-30</td>\n",
       "      <td>4</td>\n",
       "      <td>1</td>\n",
       "      <td>30</td>\n",
       "      <td>9</td>\n",
       "      <td>27</td>\n",
       "      <td>11.99</td>\n",
       "      <td>Los Angeles CA</td>\n",
       "    </tr>\n",
       "    <tr>\n",
       "      <th>...</th>\n",
       "      <td>...</td>\n",
       "      <td>...</td>\n",
       "      <td>...</td>\n",
       "      <td>...</td>\n",
       "      <td>...</td>\n",
       "      <td>...</td>\n",
       "      <td>...</td>\n",
       "      <td>...</td>\n",
       "      <td>...</td>\n",
       "      <td>...</td>\n",
       "      <td>...</td>\n",
       "      <td>...</td>\n",
       "      <td>...</td>\n",
       "      <td>...</td>\n",
       "    </tr>\n",
       "    <tr>\n",
       "      <th>186844</th>\n",
       "      <td>259353</td>\n",
       "      <td>AAA Batteries (4-pack)</td>\n",
       "      <td>3</td>\n",
       "      <td>2.99</td>\n",
       "      <td>2019-09-17 20:56:00</td>\n",
       "      <td>840 Highland St, Los Angeles, CA 90001</td>\n",
       "      <td>2019-09-17</td>\n",
       "      <td>9</td>\n",
       "      <td>1</td>\n",
       "      <td>17</td>\n",
       "      <td>20</td>\n",
       "      <td>56</td>\n",
       "      <td>8.97</td>\n",
       "      <td>Los Angeles CA</td>\n",
       "    </tr>\n",
       "    <tr>\n",
       "      <th>186845</th>\n",
       "      <td>259354</td>\n",
       "      <td>iPhone</td>\n",
       "      <td>1</td>\n",
       "      <td>700.00</td>\n",
       "      <td>2019-09-01 16:00:00</td>\n",
       "      <td>216 Dogwood St, San Francisco, CA 94016</td>\n",
       "      <td>2019-09-01</td>\n",
       "      <td>9</td>\n",
       "      <td>6</td>\n",
       "      <td>1</td>\n",
       "      <td>16</td>\n",
       "      <td>0</td>\n",
       "      <td>700.00</td>\n",
       "      <td>San Francisco CA</td>\n",
       "    </tr>\n",
       "    <tr>\n",
       "      <th>186846</th>\n",
       "      <td>259355</td>\n",
       "      <td>iPhone</td>\n",
       "      <td>1</td>\n",
       "      <td>700.00</td>\n",
       "      <td>2019-09-23 07:39:00</td>\n",
       "      <td>220 12th St, San Francisco, CA 94016</td>\n",
       "      <td>2019-09-23</td>\n",
       "      <td>9</td>\n",
       "      <td>0</td>\n",
       "      <td>23</td>\n",
       "      <td>7</td>\n",
       "      <td>39</td>\n",
       "      <td>700.00</td>\n",
       "      <td>San Francisco CA</td>\n",
       "    </tr>\n",
       "    <tr>\n",
       "      <th>186847</th>\n",
       "      <td>259356</td>\n",
       "      <td>34in Ultrawide Monitor</td>\n",
       "      <td>1</td>\n",
       "      <td>379.99</td>\n",
       "      <td>2019-09-19 17:30:00</td>\n",
       "      <td>511 Forest St, San Francisco, CA 94016</td>\n",
       "      <td>2019-09-19</td>\n",
       "      <td>9</td>\n",
       "      <td>3</td>\n",
       "      <td>19</td>\n",
       "      <td>17</td>\n",
       "      <td>30</td>\n",
       "      <td>379.99</td>\n",
       "      <td>San Francisco CA</td>\n",
       "    </tr>\n",
       "    <tr>\n",
       "      <th>186848</th>\n",
       "      <td>259357</td>\n",
       "      <td>USB-C Charging Cable</td>\n",
       "      <td>1</td>\n",
       "      <td>11.95</td>\n",
       "      <td>2019-09-30 00:18:00</td>\n",
       "      <td>250 Meadow St, San Francisco, CA 94016</td>\n",
       "      <td>2019-09-30</td>\n",
       "      <td>9</td>\n",
       "      <td>0</td>\n",
       "      <td>30</td>\n",
       "      <td>0</td>\n",
       "      <td>18</td>\n",
       "      <td>11.95</td>\n",
       "      <td>San Francisco CA</td>\n",
       "    </tr>\n",
       "  </tbody>\n",
       "</table>\n",
       "<p>185950 rows × 14 columns</p>\n",
       "</div>"
      ],
      "text/plain": [
       "        Order ID                     Product  Quantity Ordered  Price Each  \\\n",
       "0         176558        USB-C Charging Cable                 2       11.95   \n",
       "1         176559  Bose SoundSport Headphones                 1       99.99   \n",
       "2         176560                Google Phone                 1      600.00   \n",
       "3         176560            Wired Headphones                 1       11.99   \n",
       "4         176561            Wired Headphones                 1       11.99   \n",
       "...          ...                         ...               ...         ...   \n",
       "186844    259353      AAA Batteries (4-pack)                 3        2.99   \n",
       "186845    259354                      iPhone                 1      700.00   \n",
       "186846    259355                      iPhone                 1      700.00   \n",
       "186847    259356      34in Ultrawide Monitor                 1      379.99   \n",
       "186848    259357        USB-C Charging Cable                 1       11.95   \n",
       "\n",
       "            Order DateTime                         Purchase Address  \\\n",
       "0      2019-04-19 08:46:00             917 1st St, Dallas, TX 75001   \n",
       "1      2019-04-07 22:30:00        682 Chestnut St, Boston, MA 02215   \n",
       "2      2019-04-12 14:38:00     669 Spruce St, Los Angeles, CA 90001   \n",
       "3      2019-04-12 14:38:00     669 Spruce St, Los Angeles, CA 90001   \n",
       "4      2019-04-30 09:27:00        333 8th St, Los Angeles, CA 90001   \n",
       "...                    ...                                      ...   \n",
       "186844 2019-09-17 20:56:00   840 Highland St, Los Angeles, CA 90001   \n",
       "186845 2019-09-01 16:00:00  216 Dogwood St, San Francisco, CA 94016   \n",
       "186846 2019-09-23 07:39:00     220 12th St, San Francisco, CA 94016   \n",
       "186847 2019-09-19 17:30:00   511 Forest St, San Francisco, CA 94016   \n",
       "186848 2019-09-30 00:18:00   250 Meadow St, San Francisco, CA 94016   \n",
       "\n",
       "              Date  Month  Weekday  MonthDay  Hour  Minute   Sales  \\\n",
       "0       2019-04-19      4        4        19     8      46   23.90   \n",
       "1       2019-04-07      4        6         7    22      30   99.99   \n",
       "2       2019-04-12      4        4        12    14      38  600.00   \n",
       "3       2019-04-12      4        4        12    14      38   11.99   \n",
       "4       2019-04-30      4        1        30     9      27   11.99   \n",
       "...            ...    ...      ...       ...   ...     ...     ...   \n",
       "186844  2019-09-17      9        1        17    20      56    8.97   \n",
       "186845  2019-09-01      9        6         1    16       0  700.00   \n",
       "186846  2019-09-23      9        0        23     7      39  700.00   \n",
       "186847  2019-09-19      9        3        19    17      30  379.99   \n",
       "186848  2019-09-30      9        0        30     0      18   11.95   \n",
       "\n",
       "              City State  \n",
       "0              Dallas TX  \n",
       "1              Boston MA  \n",
       "2         Los Angeles CA  \n",
       "3         Los Angeles CA  \n",
       "4         Los Angeles CA  \n",
       "...                  ...  \n",
       "186844    Los Angeles CA  \n",
       "186845  San Francisco CA  \n",
       "186846  San Francisco CA  \n",
       "186847  San Francisco CA  \n",
       "186848  San Francisco CA  \n",
       "\n",
       "[185950 rows x 14 columns]"
      ]
     },
     "execution_count": 14,
     "metadata": {},
     "output_type": "execute_result"
    }
   ],
   "source": [
    "maindf"
   ]
  },
  {
   "cell_type": "markdown",
   "id": "2c768814-a87a-44a2-8d81-2d8d42a6ffd5",
   "metadata": {},
   "source": [
    "# Data Analysis"
   ]
  },
  {
   "cell_type": "markdown",
   "id": "1ef47344",
   "metadata": {},
   "source": [
    "### 1. What product sold the most? "
   ]
  },
  {
   "cell_type": "code",
   "execution_count": 27,
   "id": "14c358dc-3466-4173-b756-53eb89d508f5",
   "metadata": {},
   "outputs": [
    {
     "data": {
      "application/vnd.plotly.v1+json": {
       "config": {
        "plotlyServerURL": "https://plot.ly"
       },
       "data": [
        {
         "alignmentgroup": "True",
         "hovertemplate": "Quantity Sold=%{marker.color}<br>Product=%{y}<extra></extra>",
         "legendgroup": "",
         "marker": {
          "color": [
           646,
           666,
           2068,
           4129,
           4130,
           4728,
           4819,
           5532,
           6199,
           6244,
           6849,
           7550,
           13457,
           15661,
           20557,
           23217,
           23975,
           27635,
           31017
          ],
          "coloraxis": "coloraxis",
          "pattern": {
           "shape": ""
          }
         },
         "name": "",
         "offsetgroup": "",
         "orientation": "h",
         "showlegend": false,
         "textposition": "auto",
         "type": "bar",
         "x": [
          646,
          666,
          2068,
          4129,
          4130,
          4728,
          4819,
          5532,
          6199,
          6244,
          6849,
          7550,
          13457,
          15661,
          20557,
          23217,
          23975,
          27635,
          31017
         ],
         "xaxis": "x",
         "y": [
          "LG Dryer",
          "LG Washing Machine",
          "Vareebadd Phone",
          "20in Monitor",
          "ThinkPad Laptop",
          "Macbook Pro Laptop",
          "Flatscreen TV",
          "Google Phone",
          "34in Ultrawide Monitor",
          "27in 4K Gaming Monitor",
          "iPhone",
          "27in FHD Monitor",
          "Bose SoundSport Headphones",
          "Apple Airpods Headphones",
          "Wired Headphones",
          "Lightning Charging Cable",
          "USB-C Charging Cable",
          "AA Batteries (4-pack)",
          "AAA Batteries (4-pack)"
         ],
         "yaxis": "y"
        }
       ],
       "layout": {
        "autosize": true,
        "bargap": 0.2,
        "barmode": "relative",
        "coloraxis": {
         "colorbar": {
          "title": {
           "text": "Quantity Sold"
          }
         },
         "colorscale": [
          [
           0,
           "rgb(247,251,255)"
          ],
          [
           0.125,
           "rgb(222,235,247)"
          ],
          [
           0.25,
           "rgb(198,219,239)"
          ],
          [
           0.375,
           "rgb(158,202,225)"
          ],
          [
           0.5,
           "rgb(107,174,214)"
          ],
          [
           0.625,
           "rgb(66,146,198)"
          ],
          [
           0.75,
           "rgb(33,113,181)"
          ],
          [
           0.875,
           "rgb(8,81,156)"
          ],
          [
           1,
           "rgb(8,48,107)"
          ]
         ]
        },
        "legend": {
         "tracegroupgap": 0
        },
        "plot_bgcolor": "lightgrey",
        "template": {
         "data": {
          "bar": [
           {
            "error_x": {
             "color": "#2a3f5f"
            },
            "error_y": {
             "color": "#2a3f5f"
            },
            "marker": {
             "line": {
              "color": "#E5ECF6",
              "width": 0.5
             },
             "pattern": {
              "fillmode": "overlay",
              "size": 10,
              "solidity": 0.2
             }
            },
            "type": "bar"
           }
          ],
          "barpolar": [
           {
            "marker": {
             "line": {
              "color": "#E5ECF6",
              "width": 0.5
             },
             "pattern": {
              "fillmode": "overlay",
              "size": 10,
              "solidity": 0.2
             }
            },
            "type": "barpolar"
           }
          ],
          "carpet": [
           {
            "aaxis": {
             "endlinecolor": "#2a3f5f",
             "gridcolor": "white",
             "linecolor": "white",
             "minorgridcolor": "white",
             "startlinecolor": "#2a3f5f"
            },
            "baxis": {
             "endlinecolor": "#2a3f5f",
             "gridcolor": "white",
             "linecolor": "white",
             "minorgridcolor": "white",
             "startlinecolor": "#2a3f5f"
            },
            "type": "carpet"
           }
          ],
          "choropleth": [
           {
            "colorbar": {
             "outlinewidth": 0,
             "ticks": ""
            },
            "type": "choropleth"
           }
          ],
          "contour": [
           {
            "colorbar": {
             "outlinewidth": 0,
             "ticks": ""
            },
            "colorscale": [
             [
              0,
              "#0d0887"
             ],
             [
              0.1111111111111111,
              "#46039f"
             ],
             [
              0.2222222222222222,
              "#7201a8"
             ],
             [
              0.3333333333333333,
              "#9c179e"
             ],
             [
              0.4444444444444444,
              "#bd3786"
             ],
             [
              0.5555555555555556,
              "#d8576b"
             ],
             [
              0.6666666666666666,
              "#ed7953"
             ],
             [
              0.7777777777777778,
              "#fb9f3a"
             ],
             [
              0.8888888888888888,
              "#fdca26"
             ],
             [
              1,
              "#f0f921"
             ]
            ],
            "type": "contour"
           }
          ],
          "contourcarpet": [
           {
            "colorbar": {
             "outlinewidth": 0,
             "ticks": ""
            },
            "type": "contourcarpet"
           }
          ],
          "heatmap": [
           {
            "colorbar": {
             "outlinewidth": 0,
             "ticks": ""
            },
            "colorscale": [
             [
              0,
              "#0d0887"
             ],
             [
              0.1111111111111111,
              "#46039f"
             ],
             [
              0.2222222222222222,
              "#7201a8"
             ],
             [
              0.3333333333333333,
              "#9c179e"
             ],
             [
              0.4444444444444444,
              "#bd3786"
             ],
             [
              0.5555555555555556,
              "#d8576b"
             ],
             [
              0.6666666666666666,
              "#ed7953"
             ],
             [
              0.7777777777777778,
              "#fb9f3a"
             ],
             [
              0.8888888888888888,
              "#fdca26"
             ],
             [
              1,
              "#f0f921"
             ]
            ],
            "type": "heatmap"
           }
          ],
          "heatmapgl": [
           {
            "colorbar": {
             "outlinewidth": 0,
             "ticks": ""
            },
            "colorscale": [
             [
              0,
              "#0d0887"
             ],
             [
              0.1111111111111111,
              "#46039f"
             ],
             [
              0.2222222222222222,
              "#7201a8"
             ],
             [
              0.3333333333333333,
              "#9c179e"
             ],
             [
              0.4444444444444444,
              "#bd3786"
             ],
             [
              0.5555555555555556,
              "#d8576b"
             ],
             [
              0.6666666666666666,
              "#ed7953"
             ],
             [
              0.7777777777777778,
              "#fb9f3a"
             ],
             [
              0.8888888888888888,
              "#fdca26"
             ],
             [
              1,
              "#f0f921"
             ]
            ],
            "type": "heatmapgl"
           }
          ],
          "histogram": [
           {
            "marker": {
             "pattern": {
              "fillmode": "overlay",
              "size": 10,
              "solidity": 0.2
             }
            },
            "type": "histogram"
           }
          ],
          "histogram2d": [
           {
            "colorbar": {
             "outlinewidth": 0,
             "ticks": ""
            },
            "colorscale": [
             [
              0,
              "#0d0887"
             ],
             [
              0.1111111111111111,
              "#46039f"
             ],
             [
              0.2222222222222222,
              "#7201a8"
             ],
             [
              0.3333333333333333,
              "#9c179e"
             ],
             [
              0.4444444444444444,
              "#bd3786"
             ],
             [
              0.5555555555555556,
              "#d8576b"
             ],
             [
              0.6666666666666666,
              "#ed7953"
             ],
             [
              0.7777777777777778,
              "#fb9f3a"
             ],
             [
              0.8888888888888888,
              "#fdca26"
             ],
             [
              1,
              "#f0f921"
             ]
            ],
            "type": "histogram2d"
           }
          ],
          "histogram2dcontour": [
           {
            "colorbar": {
             "outlinewidth": 0,
             "ticks": ""
            },
            "colorscale": [
             [
              0,
              "#0d0887"
             ],
             [
              0.1111111111111111,
              "#46039f"
             ],
             [
              0.2222222222222222,
              "#7201a8"
             ],
             [
              0.3333333333333333,
              "#9c179e"
             ],
             [
              0.4444444444444444,
              "#bd3786"
             ],
             [
              0.5555555555555556,
              "#d8576b"
             ],
             [
              0.6666666666666666,
              "#ed7953"
             ],
             [
              0.7777777777777778,
              "#fb9f3a"
             ],
             [
              0.8888888888888888,
              "#fdca26"
             ],
             [
              1,
              "#f0f921"
             ]
            ],
            "type": "histogram2dcontour"
           }
          ],
          "mesh3d": [
           {
            "colorbar": {
             "outlinewidth": 0,
             "ticks": ""
            },
            "type": "mesh3d"
           }
          ],
          "parcoords": [
           {
            "line": {
             "colorbar": {
              "outlinewidth": 0,
              "ticks": ""
             }
            },
            "type": "parcoords"
           }
          ],
          "pie": [
           {
            "automargin": true,
            "type": "pie"
           }
          ],
          "scatter": [
           {
            "fillpattern": {
             "fillmode": "overlay",
             "size": 10,
             "solidity": 0.2
            },
            "type": "scatter"
           }
          ],
          "scatter3d": [
           {
            "line": {
             "colorbar": {
              "outlinewidth": 0,
              "ticks": ""
             }
            },
            "marker": {
             "colorbar": {
              "outlinewidth": 0,
              "ticks": ""
             }
            },
            "type": "scatter3d"
           }
          ],
          "scattercarpet": [
           {
            "marker": {
             "colorbar": {
              "outlinewidth": 0,
              "ticks": ""
             }
            },
            "type": "scattercarpet"
           }
          ],
          "scattergeo": [
           {
            "marker": {
             "colorbar": {
              "outlinewidth": 0,
              "ticks": ""
             }
            },
            "type": "scattergeo"
           }
          ],
          "scattergl": [
           {
            "marker": {
             "colorbar": {
              "outlinewidth": 0,
              "ticks": ""
             }
            },
            "type": "scattergl"
           }
          ],
          "scattermapbox": [
           {
            "marker": {
             "colorbar": {
              "outlinewidth": 0,
              "ticks": ""
             }
            },
            "type": "scattermapbox"
           }
          ],
          "scatterpolar": [
           {
            "marker": {
             "colorbar": {
              "outlinewidth": 0,
              "ticks": ""
             }
            },
            "type": "scatterpolar"
           }
          ],
          "scatterpolargl": [
           {
            "marker": {
             "colorbar": {
              "outlinewidth": 0,
              "ticks": ""
             }
            },
            "type": "scatterpolargl"
           }
          ],
          "scatterternary": [
           {
            "marker": {
             "colorbar": {
              "outlinewidth": 0,
              "ticks": ""
             }
            },
            "type": "scatterternary"
           }
          ],
          "surface": [
           {
            "colorbar": {
             "outlinewidth": 0,
             "ticks": ""
            },
            "colorscale": [
             [
              0,
              "#0d0887"
             ],
             [
              0.1111111111111111,
              "#46039f"
             ],
             [
              0.2222222222222222,
              "#7201a8"
             ],
             [
              0.3333333333333333,
              "#9c179e"
             ],
             [
              0.4444444444444444,
              "#bd3786"
             ],
             [
              0.5555555555555556,
              "#d8576b"
             ],
             [
              0.6666666666666666,
              "#ed7953"
             ],
             [
              0.7777777777777778,
              "#fb9f3a"
             ],
             [
              0.8888888888888888,
              "#fdca26"
             ],
             [
              1,
              "#f0f921"
             ]
            ],
            "type": "surface"
           }
          ],
          "table": [
           {
            "cells": {
             "fill": {
              "color": "#EBF0F8"
             },
             "line": {
              "color": "white"
             }
            },
            "header": {
             "fill": {
              "color": "#C8D4E3"
             },
             "line": {
              "color": "white"
             }
            },
            "type": "table"
           }
          ]
         },
         "layout": {
          "annotationdefaults": {
           "arrowcolor": "#2a3f5f",
           "arrowhead": 0,
           "arrowwidth": 1
          },
          "autotypenumbers": "strict",
          "coloraxis": {
           "colorbar": {
            "outlinewidth": 0,
            "ticks": ""
           }
          },
          "colorscale": {
           "diverging": [
            [
             0,
             "#8e0152"
            ],
            [
             0.1,
             "#c51b7d"
            ],
            [
             0.2,
             "#de77ae"
            ],
            [
             0.3,
             "#f1b6da"
            ],
            [
             0.4,
             "#fde0ef"
            ],
            [
             0.5,
             "#f7f7f7"
            ],
            [
             0.6,
             "#e6f5d0"
            ],
            [
             0.7,
             "#b8e186"
            ],
            [
             0.8,
             "#7fbc41"
            ],
            [
             0.9,
             "#4d9221"
            ],
            [
             1,
             "#276419"
            ]
           ],
           "sequential": [
            [
             0,
             "#0d0887"
            ],
            [
             0.1111111111111111,
             "#46039f"
            ],
            [
             0.2222222222222222,
             "#7201a8"
            ],
            [
             0.3333333333333333,
             "#9c179e"
            ],
            [
             0.4444444444444444,
             "#bd3786"
            ],
            [
             0.5555555555555556,
             "#d8576b"
            ],
            [
             0.6666666666666666,
             "#ed7953"
            ],
            [
             0.7777777777777778,
             "#fb9f3a"
            ],
            [
             0.8888888888888888,
             "#fdca26"
            ],
            [
             1,
             "#f0f921"
            ]
           ],
           "sequentialminus": [
            [
             0,
             "#0d0887"
            ],
            [
             0.1111111111111111,
             "#46039f"
            ],
            [
             0.2222222222222222,
             "#7201a8"
            ],
            [
             0.3333333333333333,
             "#9c179e"
            ],
            [
             0.4444444444444444,
             "#bd3786"
            ],
            [
             0.5555555555555556,
             "#d8576b"
            ],
            [
             0.6666666666666666,
             "#ed7953"
            ],
            [
             0.7777777777777778,
             "#fb9f3a"
            ],
            [
             0.8888888888888888,
             "#fdca26"
            ],
            [
             1,
             "#f0f921"
            ]
           ]
          },
          "colorway": [
           "#636efa",
           "#EF553B",
           "#00cc96",
           "#ab63fa",
           "#FFA15A",
           "#19d3f3",
           "#FF6692",
           "#B6E880",
           "#FF97FF",
           "#FECB52"
          ],
          "font": {
           "color": "#2a3f5f"
          },
          "geo": {
           "bgcolor": "white",
           "lakecolor": "white",
           "landcolor": "#E5ECF6",
           "showlakes": true,
           "showland": true,
           "subunitcolor": "white"
          },
          "hoverlabel": {
           "align": "left"
          },
          "hovermode": "closest",
          "mapbox": {
           "style": "light"
          },
          "paper_bgcolor": "white",
          "plot_bgcolor": "#E5ECF6",
          "polar": {
           "angularaxis": {
            "gridcolor": "white",
            "linecolor": "white",
            "ticks": ""
           },
           "bgcolor": "#E5ECF6",
           "radialaxis": {
            "gridcolor": "white",
            "linecolor": "white",
            "ticks": ""
           }
          },
          "scene": {
           "xaxis": {
            "backgroundcolor": "#E5ECF6",
            "gridcolor": "white",
            "gridwidth": 2,
            "linecolor": "white",
            "showbackground": true,
            "ticks": "",
            "zerolinecolor": "white"
           },
           "yaxis": {
            "backgroundcolor": "#E5ECF6",
            "gridcolor": "white",
            "gridwidth": 2,
            "linecolor": "white",
            "showbackground": true,
            "ticks": "",
            "zerolinecolor": "white"
           },
           "zaxis": {
            "backgroundcolor": "#E5ECF6",
            "gridcolor": "white",
            "gridwidth": 2,
            "linecolor": "white",
            "showbackground": true,
            "ticks": "",
            "zerolinecolor": "white"
           }
          },
          "shapedefaults": {
           "line": {
            "color": "#2a3f5f"
           }
          },
          "ternary": {
           "aaxis": {
            "gridcolor": "white",
            "linecolor": "white",
            "ticks": ""
           },
           "baxis": {
            "gridcolor": "white",
            "linecolor": "white",
            "ticks": ""
           },
           "bgcolor": "#E5ECF6",
           "caxis": {
            "gridcolor": "white",
            "linecolor": "white",
            "ticks": ""
           }
          },
          "title": {
           "x": 0.05
          },
          "xaxis": {
           "automargin": true,
           "gridcolor": "white",
           "linecolor": "white",
           "ticks": "",
           "title": {
            "standoff": 15
           },
           "zerolinecolor": "white",
           "zerolinewidth": 2
          },
          "yaxis": {
           "automargin": true,
           "gridcolor": "white",
           "linecolor": "white",
           "ticks": "",
           "title": {
            "standoff": 15
           },
           "zerolinecolor": "white",
           "zerolinewidth": 2
          }
         }
        },
        "title": {
         "font": {
          "family": "Arial",
          "size": 20
         },
         "text": "Quantity Sold for Each Product"
        },
        "xaxis": {
         "anchor": "y",
         "autorange": true,
         "domain": [
          0,
          1
         ],
         "range": [
          0,
          32649.473684210527
         ],
         "tickfont": {
          "size": 12
         },
         "title": {
          "text": "Quantity Sold"
         },
         "type": "linear"
        },
        "yaxis": {
         "anchor": "x",
         "autorange": true,
         "domain": [
          0,
          1
         ],
         "range": [
          -0.5,
          18.5
         ],
         "tickfont": {
          "size": 12
         },
         "title": {
          "text": "Product"
         },
         "type": "category"
        }
       }
      },
      "image/png": "[encoded data removed]",
      "text/html": [
       "<div>                            <div id=\"d08699cf-af80-4983-b80e-a725a3968ed2\" class=\"plotly-graph-div\" style=\"height:600px; width:100%;\"></div>            <script type=\"text/javascript\">                require([\"plotly\"], function(Plotly) {                    window.PLOTLYENV=window.PLOTLYENV || {};                                    if (document.getElementById(\"d08699cf-af80-4983-b80e-a725a3968ed2\")) {                    Plotly.newPlot(                        \"d08699cf-af80-4983-b80e-a725a3968ed2\",                        [{\"alignmentgroup\":\"True\",\"hovertemplate\":\"Quantity Sold=%{marker.color}\\u003cbr\\u003eProduct=%{y}\\u003cextra\\u003e\\u003c\\u002fextra\\u003e\",\"legendgroup\":\"\",\"marker\":{\"color\":[646,666,2068,4129,4130,4728,4819,5532,6199,6244,6849,7550,13457,15661,20557,23217,23975,27635,31017],\"coloraxis\":\"coloraxis\",\"pattern\":{\"shape\":\"\"}},\"name\":\"\",\"offsetgroup\":\"\",\"orientation\":\"h\",\"showlegend\":false,\"textposition\":\"auto\",\"x\":[646,666,2068,4129,4130,4728,4819,5532,6199,6244,6849,7550,13457,15661,20557,23217,23975,27635,31017],\"xaxis\":\"x\",\"y\":[\"LG Dryer\",\"LG Washing Machine\",\"Vareebadd Phone\",\"20in Monitor\",\"ThinkPad Laptop\",\"Macbook Pro Laptop\",\"Flatscreen TV\",\"Google Phone\",\"34in Ultrawide Monitor\",\"27in 4K Gaming Monitor\",\"iPhone\",\"27in FHD Monitor\",\"Bose SoundSport Headphones\",\"Apple Airpods Headphones\",\"Wired Headphones\",\"Lightning Charging Cable\",\"USB-C Charging Cable\",\"AA Batteries (4-pack)\",\"AAA Batteries (4-pack)\"],\"yaxis\":\"y\",\"type\":\"bar\"}],                        {\"template\":{\"data\":{\"histogram2dcontour\":[{\"type\":\"histogram2dcontour\",\"colorbar\":{\"outlinewidth\":0,\"ticks\":\"\"},\"colorscale\":[[0.0,\"#0d0887\"],[0.1111111111111111,\"#46039f\"],[0.2222222222222222,\"#7201a8\"],[0.3333333333333333,\"#9c179e\"],[0.4444444444444444,\"#bd3786\"],[0.5555555555555556,\"#d8576b\"],[0.6666666666666666,\"#ed7953\"],[0.7777777777777778,\"#fb9f3a\"],[0.8888888888888888,\"#fdca26\"],[1.0,\"#f0f921\"]]}],\"choropleth\":[{\"type\":\"choropleth\",\"colorbar\":{\"outlinewidth\":0,\"ticks\":\"\"}}],\"histogram2d\":[{\"type\":\"histogram2d\",\"colorbar\":{\"outlinewidth\":0,\"ticks\":\"\"},\"colorscale\":[[0.0,\"#0d0887\"],[0.1111111111111111,\"#46039f\"],[0.2222222222222222,\"#7201a8\"],[0.3333333333333333,\"#9c179e\"],[0.4444444444444444,\"#bd3786\"],[0.5555555555555556,\"#d8576b\"],[0.6666666666666666,\"#ed7953\"],[0.7777777777777778,\"#fb9f3a\"],[0.8888888888888888,\"#fdca26\"],[1.0,\"#f0f921\"]]}],\"heatmap\":[{\"type\":\"heatmap\",\"colorbar\":{\"outlinewidth\":0,\"ticks\":\"\"},\"colorscale\":[[0.0,\"#0d0887\"],[0.1111111111111111,\"#46039f\"],[0.2222222222222222,\"#7201a8\"],[0.3333333333333333,\"#9c179e\"],[0.4444444444444444,\"#bd3786\"],[0.5555555555555556,\"#d8576b\"],[0.6666666666666666,\"#ed7953\"],[0.7777777777777778,\"#fb9f3a\"],[0.8888888888888888,\"#fdca26\"],[1.0,\"#f0f921\"]]}],\"heatmapgl\":[{\"type\":\"heatmapgl\",\"colorbar\":{\"outlinewidth\":0,\"ticks\":\"\"},\"colorscale\":[[0.0,\"#0d0887\"],[0.1111111111111111,\"#46039f\"],[0.2222222222222222,\"#7201a8\"],[0.3333333333333333,\"#9c179e\"],[0.4444444444444444,\"#bd3786\"],[0.5555555555555556,\"#d8576b\"],[0.6666666666666666,\"#ed7953\"],[0.7777777777777778,\"#fb9f3a\"],[0.8888888888888888,\"#fdca26\"],[1.0,\"#f0f921\"]]}],\"contourcarpet\":[{\"type\":\"contourcarpet\",\"colorbar\":{\"outlinewidth\":0,\"ticks\":\"\"}}],\"contour\":[{\"type\":\"contour\",\"colorbar\":{\"outlinewidth\":0,\"ticks\":\"\"},\"colorscale\":[[0.0,\"#0d0887\"],[0.1111111111111111,\"#46039f\"],[0.2222222222222222,\"#7201a8\"],[0.3333333333333333,\"#9c179e\"],[0.4444444444444444,\"#bd3786\"],[0.5555555555555556,\"#d8576b\"],[0.6666666666666666,\"#ed7953\"],[0.7777777777777778,\"#fb9f3a\"],[0.8888888888888888,\"#fdca26\"],[1.0,\"#f0f921\"]]}],\"surface\":[{\"type\":\"surface\",\"colorbar\":{\"outlinewidth\":0,\"ticks\":\"\"},\"colorscale\":[[0.0,\"#0d0887\"],[0.1111111111111111,\"#46039f\"],[0.2222222222222222,\"#7201a8\"],[0.3333333333333333,\"#9c179e\"],[0.4444444444444444,\"#bd3786\"],[0.5555555555555556,\"#d8576b\"],[0.6666666666666666,\"#ed7953\"],[0.7777777777777778,\"#fb9f3a\"],[0.8888888888888888,\"#fdca26\"],[1.0,\"#f0f921\"]]}],\"mesh3d\":[{\"type\":\"mesh3d\",\"colorbar\":{\"outlinewidth\":0,\"ticks\":\"\"}}],\"scatter\":[{\"fillpattern\":{\"fillmode\":\"overlay\",\"size\":10,\"solidity\":0.2},\"type\":\"scatter\"}],\"parcoords\":[{\"type\":\"parcoords\",\"line\":{\"colorbar\":{\"outlinewidth\":0,\"ticks\":\"\"}}}],\"scatterpolargl\":[{\"type\":\"scatterpolargl\",\"marker\":{\"colorbar\":{\"outlinewidth\":0,\"ticks\":\"\"}}}],\"bar\":[{\"error_x\":{\"color\":\"#2a3f5f\"},\"error_y\":{\"color\":\"#2a3f5f\"},\"marker\":{\"line\":{\"color\":\"#E5ECF6\",\"width\":0.5},\"pattern\":{\"fillmode\":\"overlay\",\"size\":10,\"solidity\":0.2}},\"type\":\"bar\"}],\"scattergeo\":[{\"type\":\"scattergeo\",\"marker\":{\"colorbar\":{\"outlinewidth\":0,\"ticks\":\"\"}}}],\"scatterpolar\":[{\"type\":\"scatterpolar\",\"marker\":{\"colorbar\":{\"outlinewidth\":0,\"ticks\":\"\"}}}],\"histogram\":[{\"marker\":{\"pattern\":{\"fillmode\":\"overlay\",\"size\":10,\"solidity\":0.2}},\"type\":\"histogram\"}],\"scattergl\":[{\"type\":\"scattergl\",\"marker\":{\"colorbar\":{\"outlinewidth\":0,\"ticks\":\"\"}}}],\"scatter3d\":[{\"type\":\"scatter3d\",\"line\":{\"colorbar\":{\"outlinewidth\":0,\"ticks\":\"\"}},\"marker\":{\"colorbar\":{\"outlinewidth\":0,\"ticks\":\"\"}}}],\"scattermapbox\":[{\"type\":\"scattermapbox\",\"marker\":{\"colorbar\":{\"outlinewidth\":0,\"ticks\":\"\"}}}],\"scatterternary\":[{\"type\":\"scatterternary\",\"marker\":{\"colorbar\":{\"outlinewidth\":0,\"ticks\":\"\"}}}],\"scattercarpet\":[{\"type\":\"scattercarpet\",\"marker\":{\"colorbar\":{\"outlinewidth\":0,\"ticks\":\"\"}}}],\"carpet\":[{\"aaxis\":{\"endlinecolor\":\"#2a3f5f\",\"gridcolor\":\"white\",\"linecolor\":\"white\",\"minorgridcolor\":\"white\",\"startlinecolor\":\"#2a3f5f\"},\"baxis\":{\"endlinecolor\":\"#2a3f5f\",\"gridcolor\":\"white\",\"linecolor\":\"white\",\"minorgridcolor\":\"white\",\"startlinecolor\":\"#2a3f5f\"},\"type\":\"carpet\"}],\"table\":[{\"cells\":{\"fill\":{\"color\":\"#EBF0F8\"},\"line\":{\"color\":\"white\"}},\"header\":{\"fill\":{\"color\":\"#C8D4E3\"},\"line\":{\"color\":\"white\"}},\"type\":\"table\"}],\"barpolar\":[{\"marker\":{\"line\":{\"color\":\"#E5ECF6\",\"width\":0.5},\"pattern\":{\"fillmode\":\"overlay\",\"size\":10,\"solidity\":0.2}},\"type\":\"barpolar\"}],\"pie\":[{\"automargin\":true,\"type\":\"pie\"}]},\"layout\":{\"autotypenumbers\":\"strict\",\"colorway\":[\"#636efa\",\"#EF553B\",\"#00cc96\",\"#ab63fa\",\"#FFA15A\",\"#19d3f3\",\"#FF6692\",\"#B6E880\",\"#FF97FF\",\"#FECB52\"],\"font\":{\"color\":\"#2a3f5f\"},\"hovermode\":\"closest\",\"hoverlabel\":{\"align\":\"left\"},\"paper_bgcolor\":\"white\",\"plot_bgcolor\":\"#E5ECF6\",\"polar\":{\"bgcolor\":\"#E5ECF6\",\"angularaxis\":{\"gridcolor\":\"white\",\"linecolor\":\"white\",\"ticks\":\"\"},\"radialaxis\":{\"gridcolor\":\"white\",\"linecolor\":\"white\",\"ticks\":\"\"}},\"ternary\":{\"bgcolor\":\"#E5ECF6\",\"aaxis\":{\"gridcolor\":\"white\",\"linecolor\":\"white\",\"ticks\":\"\"},\"baxis\":{\"gridcolor\":\"white\",\"linecolor\":\"white\",\"ticks\":\"\"},\"caxis\":{\"gridcolor\":\"white\",\"linecolor\":\"white\",\"ticks\":\"\"}},\"coloraxis\":{\"colorbar\":{\"outlinewidth\":0,\"ticks\":\"\"}},\"colorscale\":{\"sequential\":[[0.0,\"#0d0887\"],[0.1111111111111111,\"#46039f\"],[0.2222222222222222,\"#7201a8\"],[0.3333333333333333,\"#9c179e\"],[0.4444444444444444,\"#bd3786\"],[0.5555555555555556,\"#d8576b\"],[0.6666666666666666,\"#ed7953\"],[0.7777777777777778,\"#fb9f3a\"],[0.8888888888888888,\"#fdca26\"],[1.0,\"#f0f921\"]],\"sequentialminus\":[[0.0,\"#0d0887\"],[0.1111111111111111,\"#46039f\"],[0.2222222222222222,\"#7201a8\"],[0.3333333333333333,\"#9c179e\"],[0.4444444444444444,\"#bd3786\"],[0.5555555555555556,\"#d8576b\"],[0.6666666666666666,\"#ed7953\"],[0.7777777777777778,\"#fb9f3a\"],[0.8888888888888888,\"#fdca26\"],[1.0,\"#f0f921\"]],\"diverging\":[[0,\"#8e0152\"],[0.1,\"#c51b7d\"],[0.2,\"#de77ae\"],[0.3,\"#f1b6da\"],[0.4,\"#fde0ef\"],[0.5,\"#f7f7f7\"],[0.6,\"#e6f5d0\"],[0.7,\"#b8e186\"],[0.8,\"#7fbc41\"],[0.9,\"#4d9221\"],[1,\"#276419\"]]},\"xaxis\":{\"gridcolor\":\"white\",\"linecolor\":\"white\",\"ticks\":\"\",\"title\":{\"standoff\":15},\"zerolinecolor\":\"white\",\"automargin\":true,\"zerolinewidth\":2},\"yaxis\":{\"gridcolor\":\"white\",\"linecolor\":\"white\",\"ticks\":\"\",\"title\":{\"standoff\":15},\"zerolinecolor\":\"white\",\"automargin\":true,\"zerolinewidth\":2},\"scene\":{\"xaxis\":{\"backgroundcolor\":\"#E5ECF6\",\"gridcolor\":\"white\",\"linecolor\":\"white\",\"showbackground\":true,\"ticks\":\"\",\"zerolinecolor\":\"white\",\"gridwidth\":2},\"yaxis\":{\"backgroundcolor\":\"#E5ECF6\",\"gridcolor\":\"white\",\"linecolor\":\"white\",\"showbackground\":true,\"ticks\":\"\",\"zerolinecolor\":\"white\",\"gridwidth\":2},\"zaxis\":{\"backgroundcolor\":\"#E5ECF6\",\"gridcolor\":\"white\",\"linecolor\":\"white\",\"showbackground\":true,\"ticks\":\"\",\"zerolinecolor\":\"white\",\"gridwidth\":2}},\"shapedefaults\":{\"line\":{\"color\":\"#2a3f5f\"}},\"annotationdefaults\":{\"arrowcolor\":\"#2a3f5f\",\"arrowhead\":0,\"arrowwidth\":1},\"geo\":{\"bgcolor\":\"white\",\"landcolor\":\"#E5ECF6\",\"subunitcolor\":\"white\",\"showland\":true,\"showlakes\":true,\"lakecolor\":\"white\"},\"title\":{\"x\":0.05},\"mapbox\":{\"style\":\"light\"}}},\"xaxis\":{\"anchor\":\"y\",\"domain\":[0.0,1.0],\"title\":{\"text\":\"Quantity Sold\"},\"tickfont\":{\"size\":12}},\"yaxis\":{\"anchor\":\"x\",\"domain\":[0.0,1.0],\"title\":{\"text\":\"Product\"},\"tickfont\":{\"size\":12}},\"coloraxis\":{\"colorbar\":{\"title\":{\"text\":\"Quantity Sold\"}},\"colorscale\":[[0.0,\"rgb(247,251,255)\"],[0.125,\"rgb(222,235,247)\"],[0.25,\"rgb(198,219,239)\"],[0.375,\"rgb(158,202,225)\"],[0.5,\"rgb(107,174,214)\"],[0.625,\"rgb(66,146,198)\"],[0.75,\"rgb(33,113,181)\"],[0.875,\"rgb(8,81,156)\"],[1.0,\"rgb(8,48,107)\"]]},\"legend\":{\"tracegroupgap\":0},\"title\":{\"text\":\"Quantity Sold for Each Product\",\"font\":{\"size\":20,\"family\":\"Arial\"}},\"barmode\":\"relative\",\"plot_bgcolor\":\"lightgrey\",\"bargap\":0.2,\"height\":600},                        {\"responsive\": true}                    ).then(function(){\n",
       "                            \n",
       "var gd = document.getElementById('d08699cf-af80-4983-b80e-a725a3968ed2');\n",
       "var x = new MutationObserver(function (mutations, observer) {{\n",
       "        var display = window.getComputedStyle(gd).display;\n",
       "        if (!display || display === 'none') {{\n",
       "            console.log([gd, 'removed!']);\n",
       "            Plotly.purge(gd);\n",
       "            observer.disconnect();\n",
       "        }}\n",
       "}});\n",
       "\n",
       "// Listen for the removal of the full notebook cells\n",
       "var notebookContainer = gd.closest('#notebook-container');\n",
       "if (notebookContainer) {{\n",
       "    x.observe(notebookContainer, {childList: true});\n",
       "}}\n",
       "\n",
       "// Listen for the clearing of the current output cell\n",
       "var outputEl = gd.closest('.output');\n",
       "if (outputEl) {{\n",
       "    x.observe(outputEl, {childList: true});\n",
       "}}\n",
       "\n",
       "                        })                };                });            </script>        </div>"
      ]
     },
     "metadata": {},
     "output_type": "display_data"
    }
   ],
   "source": [
    "best_product = maindf.groupby('Product')\n",
    "products = [product for product, maindf in best_product]\n",
    "quantity_sold = best_product['Quantity Ordered'].sum()\n",
    "product_data = pd.DataFrame({'Product': products, 'Quantity Sold': quantity_sold})\n",
    "product_data = product_data.sort_values('Quantity Sold', ascending=True)\n",
    "\n",
    "\n",
    "fig = px.bar(product_data, \n",
    "             x='Quantity Sold', \n",
    "             y='Product', \n",
    "             orientation='h', \n",
    "             title='Quantity Sold for Each Product',\n",
    "             color='Quantity Sold', \n",
    "             color_continuous_scale='blues',\n",
    "             labels={'Quantity Sold': 'Quantity Sold', 'Product': 'Product'})\n",
    "\n",
    "\n",
    "fig.update_layout(\n",
    "    title_font_size=20,\n",
    "    title_font_family=\"Arial\",\n",
    "    xaxis_title=\"Quantity Sold\",\n",
    "    yaxis_title=\"Product\",\n",
    "    xaxis_tickfont_size=12,\n",
    "    yaxis_tickfont_size=12,\n",
    "    plot_bgcolor=\"lightgrey\",\n",
    "    bargap=0.2,\n",
    "    height=600,\n",
    ")\n",
    "\n",
    "# Show the plot\n",
    "fig.show()\n",
    "\n"
   ]
  },
  {
   "cell_type": "markdown",
   "id": "4201bf33",
   "metadata": {
    "scrolled": true
   },
   "source": [
    "### 2. Best time to display advertisements in the day."
   ]
  },
  {
   "cell_type": "code",
   "execution_count": 32,
   "id": "f81f4ebe",
   "metadata": {},
   "outputs": [
    {
     "data": {
      "image/png": "[encoded data removed]",
      "text/plain": [
       "<Figure size 640x480 with 1 Axes>"
      ]
     },
     "metadata": {},
     "output_type": "display_data"
    }
   ],
   "source": [
    "best_hours = maindf.groupby('Hour') \n",
    "hour = [hour for hour, maindf in best_hours]\n",
    "count_hour = best_hours['Hour'].count()\n",
    "plt.plot(hour,count_hour, marker='o',markersize = 3)\n",
    "plt.xticks(hour)\n",
    "plt.xlabel(\"Hour of the day\")\n",
    "plt.ylabel(\"Orders\")\n",
    "plt.grid(True, linestyle='--', alpha=0.8)\n",
    "plt.show()"
   ]
  },
  {
   "cell_type": "markdown",
   "id": "b4ec2827",
   "metadata": {},
   "source": [
    "### 3. Best month for sales"
   ]
  },
  {
   "cell_type": "code",
   "execution_count": 17,
   "id": "ab5fdf98",
   "metadata": {
    "scrolled": true
   },
   "outputs": [
    {
     "data": {
      "image/png": "[encoded data removed]",
      "text/plain": [
       "<Figure size 640x480 with 1 Axes>"
      ]
     },
     "metadata": {},
     "output_type": "display_data"
    }
   ],
   "source": [
    "best_month = maindf.groupby('Month')\n",
    "months = range(1,13)\n",
    "plt.bar(months,best_month['Sales'].sum())\n",
    "plt.xticks(months)\n",
    "plt.xlabel('Month')\n",
    "plt.ylabel('Sales ($)')\n",
    "plt.show()"
   ]
  },
  {
   "cell_type": "markdown",
   "id": "12400e60",
   "metadata": {},
   "source": [
    "### 4. What city sold the most products?"
   ]
  },
  {
   "cell_type": "code",
   "execution_count": 18,
   "id": "101300dd",
   "metadata": {},
   "outputs": [
    {
     "data": {
      "image/png": "[encoded data removed]",
      "text/plain": [
       "<Figure size 640x480 with 1 Axes>"
      ]
     },
     "metadata": {},
     "output_type": "display_data"
    }
   ],
   "source": [
    "best_city = maindf.groupby('City State')\n",
    "city = [city for city, maindf in best_city]\n",
    "city_sales = best_city['Sales'].sum()\n",
    "\n",
    "plt.bar(city, city_sales,color=['#D0693A','#3B8EA5'])\n",
    "plt.xticks(city, rotation = 65)\n",
    "plt.xlabel('City')\n",
    "plt.ylabel('Sales ($)')\n",
    "plt.title('Sales')\n",
    "plt.show()"
   ]
  },
  {
   "cell_type": "markdown",
   "id": "cd221ef3",
   "metadata": {},
   "source": [
    "### 5. Sales Trend"
   ]
  },
  {
   "cell_type": "code",
   "execution_count": 19,
   "id": "72693b9d",
   "metadata": {
    "scrolled": true
   },
   "outputs": [
    {
     "data": {
      "text/plain": [
       "<seaborn.axisgrid.FacetGrid at 0x1ad47133dd0>"
      ]
     },
     "execution_count": 19,
     "metadata": {},
     "output_type": "execute_result"
    },
    {
     "data": {
      "image/png": "[encoded data removed]",
      "text/plain": [
       "<Figure size 1169x500 with 1 Axes>"
      ]
     },
     "metadata": {},
     "output_type": "display_data"
    }
   ],
   "source": [
    "sns.relplot(\n",
    "    data=maindf, \n",
    "    x=\"Month\", y=\"Sales\", hue=\"City State\", \n",
    "    height=5, aspect=2,\n",
    "    kind=\"line\",\n",
    "    errorbar=None\n",
    ")"
   ]
  },
  {
   "cell_type": "code",
   "execution_count": 20,
   "id": "41d5cfcd",
   "metadata": {},
   "outputs": [
    {
     "data": {
      "image/png": "[encoded data removed]",
      "text/plain": [
       "<Figure size 640x480 with 1 Axes>"
      ]
     },
     "metadata": {},
     "output_type": "display_data"
    }
   ],
   "source": [
    "maindf['Weekend'] = maindf['MonthDay'].isin([5, 6])\n",
    "sales_by_weekend = maindf.groupby('Weekend')['Sales'].sum()\n",
    "# Create a bar plot to visualize the sales variation between weekdays and weekends\n",
    "sales_by_weekend.plot(kind='bar', color=['#3B8EA5', '#D0693A'], alpha=0.9)\n",
    "\n",
    "# Customize the plot labels and title\n",
    "plt.xlabel('Week')\n",
    "plt.ylabel('Sales')\n",
    "plt.title('Sales Variation: Weekdays vs. Weekends')\n",
    "\n",
    "# Customize the x-axis tick labels\n",
    "plt.xticks([0, 1], ['Weekday', 'Weekend'],rotation = 'horizontal')\n",
    "\n",
    "# Display the plot\n",
    "plt.show()"
   ]
  },
  {
   "cell_type": "code",
   "execution_count": 21,
   "id": "b433b7f6",
   "metadata": {},
   "outputs": [
    {
     "data": {
      "image/png": "[encoded data removed]",
      "text/plain": [
       "<Figure size 640x480 with 1 Axes>"
      ]
     },
     "metadata": {},
     "output_type": "display_data"
    }
   ],
   "source": [
    "best_city = maindf.groupby('City State')\n",
    "city = [city for city, maindf in best_city]\n",
    "city_sales = best_city['Sales'].sum()\n",
    "\n",
    "plt.bar(city, city_sales,color=['#D0693A','#3B8EA5'])\n",
    "plt.xticks(city, rotation = 65)\n",
    "plt.xlabel('City')\n",
    "plt.ylabel('Sales ($)')\n",
    "plt.title('Sales')\n",
    "plt.show()"
   ]
  },
  {
   "cell_type": "code",
   "execution_count": 22,
   "id": "69345614",
   "metadata": {
    "scrolled": true
   },
   "outputs": [
    {
     "name": "stdout",
     "output_type": "stream",
     "text": [
      "<class 'pandas.core.frame.DataFrame'>\n",
      "Index: 185950 entries, 0 to 186848\n",
      "Data columns (total 15 columns):\n",
      " #   Column            Non-Null Count   Dtype         \n",
      "---  ------            --------------   -----         \n",
      " 0   Order ID          185950 non-null  int64         \n",
      " 1   Product           185950 non-null  object        \n",
      " 2   Quantity Ordered  185950 non-null  int64         \n",
      " 3   Price Each        185950 non-null  float64       \n",
      " 4   Order DateTime    185950 non-null  datetime64[ns]\n",
      " 5   Purchase Address  185950 non-null  object        \n",
      " 6   Date              185950 non-null  object        \n",
      " 7   Month             185950 non-null  int32         \n",
      " 8   Weekday           185950 non-null  int32         \n",
      " 9   MonthDay          185950 non-null  int32         \n",
      " 10  Hour              185950 non-null  int32         \n",
      " 11  Minute            185950 non-null  int32         \n",
      " 12  Sales             185950 non-null  float64       \n",
      " 13  City State        185950 non-null  object        \n",
      " 14  Weekend           185950 non-null  bool          \n",
      "dtypes: bool(1), datetime64[ns](1), float64(2), int32(5), int64(2), object(4)\n",
      "memory usage: 17.9+ MB\n",
      "Index(['Order ID', 'Product', 'Quantity Ordered', 'Price Each',\n",
      "       'Order DateTime', 'Purchase Address', 'Date', 'Month', 'Weekday',\n",
      "       'MonthDay', 'Hour', 'Minute', 'Sales', 'City State', 'Weekend'],\n",
      "      dtype='object')\n"
     ]
    }
   ],
   "source": [
    "maindf.info()\n",
    "print(maindf.columns)"
   ]
  },
  {
   "cell_type": "code",
   "execution_count": 23,
   "id": "92aab2f8",
   "metadata": {},
   "outputs": [
    {
     "data": {
      "text/html": [
       "<div>\n",
       "<style scoped>\n",
       "    .dataframe tbody tr th:only-of-type {\n",
       "        vertical-align: middle;\n",
       "    }\n",
       "\n",
       "    .dataframe tbody tr th {\n",
       "        vertical-align: top;\n",
       "    }\n",
       "\n",
       "    .dataframe thead th {\n",
       "        text-align: right;\n",
       "    }\n",
       "</style>\n",
       "<table border=\"1\" class=\"dataframe\">\n",
       "  <thead>\n",
       "    <tr style=\"text-align: right;\">\n",
       "      <th></th>\n",
       "      <th>Order ID</th>\n",
       "      <th>Product</th>\n",
       "      <th>Quantity Ordered</th>\n",
       "      <th>Price Each</th>\n",
       "      <th>Order DateTime</th>\n",
       "      <th>Purchase Address</th>\n",
       "      <th>Date</th>\n",
       "      <th>Month</th>\n",
       "      <th>Weekday</th>\n",
       "      <th>MonthDay</th>\n",
       "      <th>Hour</th>\n",
       "      <th>Minute</th>\n",
       "      <th>Sales</th>\n",
       "      <th>City State</th>\n",
       "      <th>Weekend</th>\n",
       "    </tr>\n",
       "  </thead>\n",
       "  <tbody>\n",
       "    <tr>\n",
       "      <th>0</th>\n",
       "      <td>176558</td>\n",
       "      <td>USB-C Charging Cable</td>\n",
       "      <td>2</td>\n",
       "      <td>11.95</td>\n",
       "      <td>2019-04-19 08:46:00</td>\n",
       "      <td>917 1st St, Dallas, TX 75001</td>\n",
       "      <td>2019-04-19</td>\n",
       "      <td>4</td>\n",
       "      <td>4</td>\n",
       "      <td>19</td>\n",
       "      <td>8</td>\n",
       "      <td>46</td>\n",
       "      <td>23.90</td>\n",
       "      <td>Dallas TX</td>\n",
       "      <td>False</td>\n",
       "    </tr>\n",
       "    <tr>\n",
       "      <th>1</th>\n",
       "      <td>176559</td>\n",
       "      <td>Bose SoundSport Headphones</td>\n",
       "      <td>1</td>\n",
       "      <td>99.99</td>\n",
       "      <td>2019-04-07 22:30:00</td>\n",
       "      <td>682 Chestnut St, Boston, MA 02215</td>\n",
       "      <td>2019-04-07</td>\n",
       "      <td>4</td>\n",
       "      <td>6</td>\n",
       "      <td>7</td>\n",
       "      <td>22</td>\n",
       "      <td>30</td>\n",
       "      <td>99.99</td>\n",
       "      <td>Boston MA</td>\n",
       "      <td>False</td>\n",
       "    </tr>\n",
       "    <tr>\n",
       "      <th>2</th>\n",
       "      <td>176560</td>\n",
       "      <td>Google Phone</td>\n",
       "      <td>1</td>\n",
       "      <td>600.00</td>\n",
       "      <td>2019-04-12 14:38:00</td>\n",
       "      <td>669 Spruce St, Los Angeles, CA 90001</td>\n",
       "      <td>2019-04-12</td>\n",
       "      <td>4</td>\n",
       "      <td>4</td>\n",
       "      <td>12</td>\n",
       "      <td>14</td>\n",
       "      <td>38</td>\n",
       "      <td>600.00</td>\n",
       "      <td>Los Angeles CA</td>\n",
       "      <td>False</td>\n",
       "    </tr>\n",
       "    <tr>\n",
       "      <th>3</th>\n",
       "      <td>176560</td>\n",
       "      <td>Wired Headphones</td>\n",
       "      <td>1</td>\n",
       "      <td>11.99</td>\n",
       "      <td>2019-04-12 14:38:00</td>\n",
       "      <td>669 Spruce St, Los Angeles, CA 90001</td>\n",
       "      <td>2019-04-12</td>\n",
       "      <td>4</td>\n",
       "      <td>4</td>\n",
       "      <td>12</td>\n",
       "      <td>14</td>\n",
       "      <td>38</td>\n",
       "      <td>11.99</td>\n",
       "      <td>Los Angeles CA</td>\n",
       "      <td>False</td>\n",
       "    </tr>\n",
       "    <tr>\n",
       "      <th>4</th>\n",
       "      <td>176561</td>\n",
       "      <td>Wired Headphones</td>\n",
       "      <td>1</td>\n",
       "      <td>11.99</td>\n",
       "      <td>2019-04-30 09:27:00</td>\n",
       "      <td>333 8th St, Los Angeles, CA 90001</td>\n",
       "      <td>2019-04-30</td>\n",
       "      <td>4</td>\n",
       "      <td>1</td>\n",
       "      <td>30</td>\n",
       "      <td>9</td>\n",
       "      <td>27</td>\n",
       "      <td>11.99</td>\n",
       "      <td>Los Angeles CA</td>\n",
       "      <td>False</td>\n",
       "    </tr>\n",
       "    <tr>\n",
       "      <th>...</th>\n",
       "      <td>...</td>\n",
       "      <td>...</td>\n",
       "      <td>...</td>\n",
       "      <td>...</td>\n",
       "      <td>...</td>\n",
       "      <td>...</td>\n",
       "      <td>...</td>\n",
       "      <td>...</td>\n",
       "      <td>...</td>\n",
       "      <td>...</td>\n",
       "      <td>...</td>\n",
       "      <td>...</td>\n",
       "      <td>...</td>\n",
       "      <td>...</td>\n",
       "      <td>...</td>\n",
       "    </tr>\n",
       "    <tr>\n",
       "      <th>186844</th>\n",
       "      <td>259353</td>\n",
       "      <td>AAA Batteries (4-pack)</td>\n",
       "      <td>3</td>\n",
       "      <td>2.99</td>\n",
       "      <td>2019-09-17 20:56:00</td>\n",
       "      <td>840 Highland St, Los Angeles, CA 90001</td>\n",
       "      <td>2019-09-17</td>\n",
       "      <td>9</td>\n",
       "      <td>1</td>\n",
       "      <td>17</td>\n",
       "      <td>20</td>\n",
       "      <td>56</td>\n",
       "      <td>8.97</td>\n",
       "      <td>Los Angeles CA</td>\n",
       "      <td>False</td>\n",
       "    </tr>\n",
       "    <tr>\n",
       "      <th>186845</th>\n",
       "      <td>259354</td>\n",
       "      <td>iPhone</td>\n",
       "      <td>1</td>\n",
       "      <td>700.00</td>\n",
       "      <td>2019-09-01 16:00:00</td>\n",
       "      <td>216 Dogwood St, San Francisco, CA 94016</td>\n",
       "      <td>2019-09-01</td>\n",
       "      <td>9</td>\n",
       "      <td>6</td>\n",
       "      <td>1</td>\n",
       "      <td>16</td>\n",
       "      <td>0</td>\n",
       "      <td>700.00</td>\n",
       "      <td>San Francisco CA</td>\n",
       "      <td>False</td>\n",
       "    </tr>\n",
       "    <tr>\n",
       "      <th>186846</th>\n",
       "      <td>259355</td>\n",
       "      <td>iPhone</td>\n",
       "      <td>1</td>\n",
       "      <td>700.00</td>\n",
       "      <td>2019-09-23 07:39:00</td>\n",
       "      <td>220 12th St, San Francisco, CA 94016</td>\n",
       "      <td>2019-09-23</td>\n",
       "      <td>9</td>\n",
       "      <td>0</td>\n",
       "      <td>23</td>\n",
       "      <td>7</td>\n",
       "      <td>39</td>\n",
       "      <td>700.00</td>\n",
       "      <td>San Francisco CA</td>\n",
       "      <td>False</td>\n",
       "    </tr>\n",
       "    <tr>\n",
       "      <th>186847</th>\n",
       "      <td>259356</td>\n",
       "      <td>34in Ultrawide Monitor</td>\n",
       "      <td>1</td>\n",
       "      <td>379.99</td>\n",
       "      <td>2019-09-19 17:30:00</td>\n",
       "      <td>511 Forest St, San Francisco, CA 94016</td>\n",
       "      <td>2019-09-19</td>\n",
       "      <td>9</td>\n",
       "      <td>3</td>\n",
       "      <td>19</td>\n",
       "      <td>17</td>\n",
       "      <td>30</td>\n",
       "      <td>379.99</td>\n",
       "      <td>San Francisco CA</td>\n",
       "      <td>False</td>\n",
       "    </tr>\n",
       "    <tr>\n",
       "      <th>186848</th>\n",
       "      <td>259357</td>\n",
       "      <td>USB-C Charging Cable</td>\n",
       "      <td>1</td>\n",
       "      <td>11.95</td>\n",
       "      <td>2019-09-30 00:18:00</td>\n",
       "      <td>250 Meadow St, San Francisco, CA 94016</td>\n",
       "      <td>2019-09-30</td>\n",
       "      <td>9</td>\n",
       "      <td>0</td>\n",
       "      <td>30</td>\n",
       "      <td>0</td>\n",
       "      <td>18</td>\n",
       "      <td>11.95</td>\n",
       "      <td>San Francisco CA</td>\n",
       "      <td>False</td>\n",
       "    </tr>\n",
       "  </tbody>\n",
       "</table>\n",
       "<p>185950 rows × 15 columns</p>\n",
       "</div>"
      ],
      "text/plain": [
       "        Order ID                     Product  Quantity Ordered  Price Each  \\\n",
       "0         176558        USB-C Charging Cable                 2       11.95   \n",
       "1         176559  Bose SoundSport Headphones                 1       99.99   \n",
       "2         176560                Google Phone                 1      600.00   \n",
       "3         176560            Wired Headphones                 1       11.99   \n",
       "4         176561            Wired Headphones                 1       11.99   \n",
       "...          ...                         ...               ...         ...   \n",
       "186844    259353      AAA Batteries (4-pack)                 3        2.99   \n",
       "186845    259354                      iPhone                 1      700.00   \n",
       "186846    259355                      iPhone                 1      700.00   \n",
       "186847    259356      34in Ultrawide Monitor                 1      379.99   \n",
       "186848    259357        USB-C Charging Cable                 1       11.95   \n",
       "\n",
       "            Order DateTime                         Purchase Address  \\\n",
       "0      2019-04-19 08:46:00             917 1st St, Dallas, TX 75001   \n",
       "1      2019-04-07 22:30:00        682 Chestnut St, Boston, MA 02215   \n",
       "2      2019-04-12 14:38:00     669 Spruce St, Los Angeles, CA 90001   \n",
       "3      2019-04-12 14:38:00     669 Spruce St, Los Angeles, CA 90001   \n",
       "4      2019-04-30 09:27:00        333 8th St, Los Angeles, CA 90001   \n",
       "...                    ...                                      ...   \n",
       "186844 2019-09-17 20:56:00   840 Highland St, Los Angeles, CA 90001   \n",
       "186845 2019-09-01 16:00:00  216 Dogwood St, San Francisco, CA 94016   \n",
       "186846 2019-09-23 07:39:00     220 12th St, San Francisco, CA 94016   \n",
       "186847 2019-09-19 17:30:00   511 Forest St, San Francisco, CA 94016   \n",
       "186848 2019-09-30 00:18:00   250 Meadow St, San Francisco, CA 94016   \n",
       "\n",
       "              Date  Month  Weekday  MonthDay  Hour  Minute   Sales  \\\n",
       "0       2019-04-19      4        4        19     8      46   23.90   \n",
       "1       2019-04-07      4        6         7    22      30   99.99   \n",
       "2       2019-04-12      4        4        12    14      38  600.00   \n",
       "3       2019-04-12      4        4        12    14      38   11.99   \n",
       "4       2019-04-30      4        1        30     9      27   11.99   \n",
       "...            ...    ...      ...       ...   ...     ...     ...   \n",
       "186844  2019-09-17      9        1        17    20      56    8.97   \n",
       "186845  2019-09-01      9        6         1    16       0  700.00   \n",
       "186846  2019-09-23      9        0        23     7      39  700.00   \n",
       "186847  2019-09-19      9        3        19    17      30  379.99   \n",
       "186848  2019-09-30      9        0        30     0      18   11.95   \n",
       "\n",
       "              City State  Weekend  \n",
       "0              Dallas TX    False  \n",
       "1              Boston MA    False  \n",
       "2         Los Angeles CA    False  \n",
       "3         Los Angeles CA    False  \n",
       "4         Los Angeles CA    False  \n",
       "...                  ...      ...  \n",
       "186844    Los Angeles CA    False  \n",
       "186845  San Francisco CA    False  \n",
       "186846  San Francisco CA    False  \n",
       "186847  San Francisco CA    False  \n",
       "186848  San Francisco CA    False  \n",
       "\n",
       "[185950 rows x 15 columns]"
      ]
     },
     "execution_count": 23,
     "metadata": {},
     "output_type": "execute_result"
    }
   ],
   "source": [
    "maindf"
   ]
  },
  {
   "cell_type": "code",
   "execution_count": 24,
   "id": "5e05cc62",
   "metadata": {
    "scrolled": true
   },
   "outputs": [
    {
     "data": {
      "text/html": [
       "<div>\n",
       "<style scoped>\n",
       "    .dataframe tbody tr th:only-of-type {\n",
       "        vertical-align: middle;\n",
       "    }\n",
       "\n",
       "    .dataframe tbody tr th {\n",
       "        vertical-align: top;\n",
       "    }\n",
       "\n",
       "    .dataframe thead th {\n",
       "        text-align: right;\n",
       "    }\n",
       "</style>\n",
       "<table border=\"1\" class=\"dataframe\">\n",
       "  <thead>\n",
       "    <tr style=\"text-align: right;\">\n",
       "      <th>City State</th>\n",
       "      <th>Atlanta GA</th>\n",
       "      <th>Austin TX</th>\n",
       "      <th>Boston MA</th>\n",
       "      <th>Dallas TX</th>\n",
       "      <th>Los Angeles CA</th>\n",
       "      <th>New York City NY</th>\n",
       "      <th>Portland ME</th>\n",
       "      <th>Portland OR</th>\n",
       "      <th>San Francisco CA</th>\n",
       "      <th>Seattle WA</th>\n",
       "    </tr>\n",
       "    <tr>\n",
       "      <th>Date</th>\n",
       "      <th></th>\n",
       "      <th></th>\n",
       "      <th></th>\n",
       "      <th></th>\n",
       "      <th></th>\n",
       "      <th></th>\n",
       "      <th></th>\n",
       "      <th></th>\n",
       "      <th></th>\n",
       "      <th></th>\n",
       "    </tr>\n",
       "  </thead>\n",
       "  <tbody>\n",
       "    <tr>\n",
       "      <th>2019-01-01</th>\n",
       "      <td>5073.02</td>\n",
       "      <td>1645.32</td>\n",
       "      <td>9398.93</td>\n",
       "      <td>5887.39</td>\n",
       "      <td>13255.58</td>\n",
       "      <td>5849.63</td>\n",
       "      <td>261.94</td>\n",
       "      <td>2709.38</td>\n",
       "      <td>14160.78</td>\n",
       "      <td>7439.97</td>\n",
       "    </tr>\n",
       "    <tr>\n",
       "      <th>2019-01-02</th>\n",
       "      <td>6090.95</td>\n",
       "      <td>2424.62</td>\n",
       "      <td>6359.15</td>\n",
       "      <td>7807.01</td>\n",
       "      <td>10016.08</td>\n",
       "      <td>8961.80</td>\n",
       "      <td>261.98</td>\n",
       "      <td>4097.80</td>\n",
       "      <td>19760.67</td>\n",
       "      <td>5033.14</td>\n",
       "    </tr>\n",
       "    <tr>\n",
       "      <th>2019-01-03</th>\n",
       "      <td>2281.95</td>\n",
       "      <td>3120.38</td>\n",
       "      <td>6062.08</td>\n",
       "      <td>3152.81</td>\n",
       "      <td>10105.24</td>\n",
       "      <td>4012.95</td>\n",
       "      <td>212.32</td>\n",
       "      <td>1697.71</td>\n",
       "      <td>11714.46</td>\n",
       "      <td>4686.30</td>\n",
       "    </tr>\n",
       "    <tr>\n",
       "      <th>2019-01-04</th>\n",
       "      <td>6747.21</td>\n",
       "      <td>1163.73</td>\n",
       "      <td>5951.04</td>\n",
       "      <td>7331.46</td>\n",
       "      <td>11958.43</td>\n",
       "      <td>6830.51</td>\n",
       "      <td>203.36</td>\n",
       "      <td>2371.53</td>\n",
       "      <td>17256.76</td>\n",
       "      <td>2198.18</td>\n",
       "    </tr>\n",
       "    <tr>\n",
       "      <th>2019-01-05</th>\n",
       "      <td>3143.15</td>\n",
       "      <td>590.62</td>\n",
       "      <td>10407.27</td>\n",
       "      <td>2960.99</td>\n",
       "      <td>8087.97</td>\n",
       "      <td>4320.47</td>\n",
       "      <td>775.81</td>\n",
       "      <td>1951.12</td>\n",
       "      <td>10990.10</td>\n",
       "      <td>3297.13</td>\n",
       "    </tr>\n",
       "    <tr>\n",
       "      <th>...</th>\n",
       "      <td>...</td>\n",
       "      <td>...</td>\n",
       "      <td>...</td>\n",
       "      <td>...</td>\n",
       "      <td>...</td>\n",
       "      <td>...</td>\n",
       "      <td>...</td>\n",
       "      <td>...</td>\n",
       "      <td>...</td>\n",
       "      <td>...</td>\n",
       "    </tr>\n",
       "    <tr>\n",
       "      <th>2019-12-28</th>\n",
       "      <td>5613.75</td>\n",
       "      <td>8165.42</td>\n",
       "      <td>14451.85</td>\n",
       "      <td>11612.18</td>\n",
       "      <td>19339.45</td>\n",
       "      <td>14436.17</td>\n",
       "      <td>3317.89</td>\n",
       "      <td>5452.13</td>\n",
       "      <td>37837.68</td>\n",
       "      <td>13788.98</td>\n",
       "    </tr>\n",
       "    <tr>\n",
       "      <th>2019-12-29</th>\n",
       "      <td>12976.66</td>\n",
       "      <td>7763.91</td>\n",
       "      <td>16853.54</td>\n",
       "      <td>12658.86</td>\n",
       "      <td>21866.41</td>\n",
       "      <td>24414.17</td>\n",
       "      <td>1138.77</td>\n",
       "      <td>6459.07</td>\n",
       "      <td>36956.36</td>\n",
       "      <td>14936.87</td>\n",
       "    </tr>\n",
       "    <tr>\n",
       "      <th>2019-12-30</th>\n",
       "      <td>12700.45</td>\n",
       "      <td>7310.50</td>\n",
       "      <td>17855.01</td>\n",
       "      <td>15347.72</td>\n",
       "      <td>21045.66</td>\n",
       "      <td>19869.59</td>\n",
       "      <td>2301.86</td>\n",
       "      <td>7004.35</td>\n",
       "      <td>38449.91</td>\n",
       "      <td>10434.76</td>\n",
       "    </tr>\n",
       "    <tr>\n",
       "      <th>2019-12-31</th>\n",
       "      <td>9300.81</td>\n",
       "      <td>3572.94</td>\n",
       "      <td>15901.58</td>\n",
       "      <td>12039.83</td>\n",
       "      <td>22389.75</td>\n",
       "      <td>14238.66</td>\n",
       "      <td>586.42</td>\n",
       "      <td>6245.06</td>\n",
       "      <td>34238.90</td>\n",
       "      <td>12940.35</td>\n",
       "    </tr>\n",
       "    <tr>\n",
       "      <th>2020-01-01</th>\n",
       "      <td>0.00</td>\n",
       "      <td>499.98</td>\n",
       "      <td>1326.89</td>\n",
       "      <td>1714.95</td>\n",
       "      <td>999.99</td>\n",
       "      <td>1340.62</td>\n",
       "      <td>0.00</td>\n",
       "      <td>152.99</td>\n",
       "      <td>2484.88</td>\n",
       "      <td>149.99</td>\n",
       "    </tr>\n",
       "  </tbody>\n",
       "</table>\n",
       "<p>366 rows × 10 columns</p>\n",
       "</div>"
      ],
      "text/plain": [
       "City State  Atlanta GA  Austin TX  Boston MA  Dallas TX  Los Angeles CA  \\\n",
       "Date                                                                      \n",
       "2019-01-01     5073.02    1645.32    9398.93    5887.39        13255.58   \n",
       "2019-01-02     6090.95    2424.62    6359.15    7807.01        10016.08   \n",
       "2019-01-03     2281.95    3120.38    6062.08    3152.81        10105.24   \n",
       "2019-01-04     6747.21    1163.73    5951.04    7331.46        11958.43   \n",
       "2019-01-05     3143.15     590.62   10407.27    2960.99         8087.97   \n",
       "...                ...        ...        ...        ...             ...   \n",
       "2019-12-28     5613.75    8165.42   14451.85   11612.18        19339.45   \n",
       "2019-12-29    12976.66    7763.91   16853.54   12658.86        21866.41   \n",
       "2019-12-30    12700.45    7310.50   17855.01   15347.72        21045.66   \n",
       "2019-12-31     9300.81    3572.94   15901.58   12039.83        22389.75   \n",
       "2020-01-01        0.00     499.98    1326.89    1714.95          999.99   \n",
       "\n",
       "City State  New York City NY  Portland ME  Portland OR  San Francisco CA  \\\n",
       "Date                                                                       \n",
       "2019-01-01           5849.63       261.94      2709.38          14160.78   \n",
       "2019-01-02           8961.80       261.98      4097.80          19760.67   \n",
       "2019-01-03           4012.95       212.32      1697.71          11714.46   \n",
       "2019-01-04           6830.51       203.36      2371.53          17256.76   \n",
       "2019-01-05           4320.47       775.81      1951.12          10990.10   \n",
       "...                      ...          ...          ...               ...   \n",
       "2019-12-28          14436.17      3317.89      5452.13          37837.68   \n",
       "2019-12-29          24414.17      1138.77      6459.07          36956.36   \n",
       "2019-12-30          19869.59      2301.86      7004.35          38449.91   \n",
       "2019-12-31          14238.66       586.42      6245.06          34238.90   \n",
       "2020-01-01           1340.62         0.00       152.99           2484.88   \n",
       "\n",
       "City State  Seattle WA  \n",
       "Date                    \n",
       "2019-01-01     7439.97  \n",
       "2019-01-02     5033.14  \n",
       "2019-01-03     4686.30  \n",
       "2019-01-04     2198.18  \n",
       "2019-01-05     3297.13  \n",
       "...                ...  \n",
       "2019-12-28    13788.98  \n",
       "2019-12-29    14936.87  \n",
       "2019-12-30    10434.76  \n",
       "2019-12-31    12940.35  \n",
       "2020-01-01      149.99  \n",
       "\n",
       "[366 rows x 10 columns]"
      ]
     },
     "execution_count": 24,
     "metadata": {},
     "output_type": "execute_result"
    }
   ],
   "source": [
    "barrace = maindf.pivot_table(index=['Date'],columns=['City State'], values='Sales',aggfunc=\"sum\",fill_value=0)\n",
    "barrace"
   ]
  },
  {
   "cell_type": "code",
   "execution_count": 25,
   "id": "f6fc9907-76f8-40fe-9758-c3e0edd17bab",
   "metadata": {},
   "outputs": [
    {
     "name": "stdout",
     "output_type": "stream",
     "text": [
      "<class 'pandas.core.frame.DataFrame'>\n",
      "Index: 185950 entries, 0 to 186848\n",
      "Data columns (total 15 columns):\n",
      " #   Column            Non-Null Count   Dtype         \n",
      "---  ------            --------------   -----         \n",
      " 0   Order ID          185950 non-null  int64         \n",
      " 1   Product           185950 non-null  object        \n",
      " 2   Quantity Ordered  185950 non-null  int64         \n",
      " 3   Price Each        185950 non-null  float64       \n",
      " 4   Order DateTime    185950 non-null  datetime64[ns]\n",
      " 5   Purchase Address  185950 non-null  object        \n",
      " 6   Date              185950 non-null  object        \n",
      " 7   Month             185950 non-null  int32         \n",
      " 8   Weekday           185950 non-null  int32         \n",
      " 9   MonthDay          185950 non-null  int32         \n",
      " 10  Hour              185950 non-null  int32         \n",
      " 11  Minute            185950 non-null  int32         \n",
      " 12  Sales             185950 non-null  float64       \n",
      " 13  City State        185950 non-null  object        \n",
      " 14  Weekend           185950 non-null  bool          \n",
      "dtypes: bool(1), datetime64[ns](1), float64(2), int32(5), int64(2), object(4)\n",
      "memory usage: 17.9+ MB\n"
     ]
    }
   ],
   "source": [
    "maindf.info()"
   ]
  },
  {
   "cell_type": "code",
   "execution_count": 26,
   "id": "bc617781-af01-4f8d-aef9-bf14da9d7b05",
   "metadata": {},
   "outputs": [
    {
     "ename": "NameError",
     "evalue": "name 'daily_sales_by_city' is not defined",
     "output_type": "error",
     "traceback": [
      "\u001b[1;31m---------------------------------------------------------------------------\u001b[0m",
      "\u001b[1;31mNameError\u001b[0m                                 Traceback (most recent call last)",
      "Cell \u001b[1;32mIn[26], line 9\u001b[0m\n\u001b[0;32m      6\u001b[0m monthly_sales_by_city \u001b[38;5;241m=\u001b[39m maindf\u001b[38;5;241m.\u001b[39mgroupby([\u001b[38;5;124m'\u001b[39m\u001b[38;5;124mMonth\u001b[39m\u001b[38;5;124m'\u001b[39m, \u001b[38;5;124m'\u001b[39m\u001b[38;5;124mCity State\u001b[39m\u001b[38;5;124m'\u001b[39m])[\u001b[38;5;124m'\u001b[39m\u001b[38;5;124mSales\u001b[39m\u001b[38;5;124m'\u001b[39m]\u001b[38;5;241m.\u001b[39msum()\u001b[38;5;241m.\u001b[39mreset_index()\n\u001b[0;32m      8\u001b[0m \u001b[38;5;66;03m# Sort the data by Sales in ascending order\u001b[39;00m\n\u001b[1;32m----> 9\u001b[0m monthly_sales_by_city_sorted \u001b[38;5;241m=\u001b[39m daily_sales_by_city\u001b[38;5;241m.\u001b[39msort_values(by\u001b[38;5;241m=\u001b[39m\u001b[38;5;124m\"\u001b[39m\u001b[38;5;124mSales\u001b[39m\u001b[38;5;124m\"\u001b[39m, ascending\u001b[38;5;241m=\u001b[39m\u001b[38;5;28;01mFalse\u001b[39;00m)\n\u001b[0;32m     11\u001b[0m \u001b[38;5;66;03m# Create the animated bar race chart with Plotly Express\u001b[39;00m\n\u001b[0;32m     12\u001b[0m fig \u001b[38;5;241m=\u001b[39m px\u001b[38;5;241m.\u001b[39mbar(\n\u001b[0;32m     13\u001b[0m     monthly_sales_by_city_sorted,\n\u001b[0;32m     14\u001b[0m     x\u001b[38;5;241m=\u001b[39m\u001b[38;5;124m'\u001b[39m\u001b[38;5;124mCity State\u001b[39m\u001b[38;5;124m'\u001b[39m,\n\u001b[1;32m   (...)\u001b[0m\n\u001b[0;32m     19\u001b[0m     title\u001b[38;5;241m=\u001b[39m\u001b[38;5;124m\"\u001b[39m\u001b[38;5;124mMonthly Sales by City (Ascending Order)\u001b[39m\u001b[38;5;124m\"\u001b[39m\n\u001b[0;32m     20\u001b[0m )\n",
      "\u001b[1;31mNameError\u001b[0m: name 'daily_sales_by_city' is not defined"
     ]
    }
   ],
   "source": [
    "import plotly.express as px\n",
    "import pandas as pd\n",
    "\n",
    "\n",
    "# Aggregate the sales by Date and City State\n",
    "monthly_sales_by_city = maindf.groupby(['Month', 'City State'])['Sales'].sum().reset_index()\n",
    "\n",
    "# Sort the data by Sales in ascending order\n",
    "monthly_sales_by_city_sorted = daily_sales_by_city.sort_values(by=\"Sales\", ascending=False)\n",
    "\n",
    "# Create the animated bar race chart with Plotly Express\n",
    "fig = px.bar(\n",
    "    monthly_sales_by_city_sorted,\n",
    "    x='City State',\n",
    "    y='Sales',\n",
    "    color='City State',\n",
    "    animation_frame=daily_sales_by_city_sorted['Month'].astype(str),  # Convert Date to string for animation\n",
    "    range_y=[0, daily_sales_by_city_sorted['Sales'].max() * 1.1],  # Add extra space above max Sales for aesthetics\n",
    "    title=\"Monthly Sales by City (Ascending Order)\"\n",
    ")\n",
    "\n",
    "# Update layout for better visual appeal\n",
    "fig.update_layout(\n",
    "    xaxis_title=\"City\",\n",
    "    yaxis_title=\"Sales\",\n",
    "    title=\"Monthly Sales by City Over Time\",\n",
    "    title_font_size=20,\n",
    "    yaxis=dict(\n",
    "        tickfont=dict(size=12),     # Increase y-axis tick font size\n",
    "        titlefont=dict(size=14),    # Increase y-axis title font size\n",
    "        showgrid=True,              # Show gridlines for better readability\n",
    "        gridcolor='lightgrey',      # Set grid color\n",
    "    ),\n",
    "    xaxis=dict(\n",
    "        tickfont=dict(size=12),\n",
    "        titlefont=dict(size=14)\n",
    "    ),\n",
    "    plot_bgcolor='rgba(0,0,0,0)',   # Transparent background for a clean look\n",
    "    width=1000,                      # Set the plot width for better readability\n",
    "    height=600                      # Set the plot height for better readability\n",
    ")\n",
    "\n",
    "# Show the figure\n",
    "fig.show()\n"
   ]
  },
  {
   "cell_type": "code",
   "execution_count": null,
   "id": "e102be5a-3c49-4138-8539-ffe9c9cd1f76",
   "metadata": {},
   "outputs": [],
   "source": []
  }
 ],
 "metadata": {
  "kernelspec": {
   "display_name": "Python 3 (ipykernel)",
   "language": "python",
   "name": "python3"
  },
  "language_info": {
   "codemirror_mode": {
    "name": "ipython",
    "version": 3
   },
   "file_extension": ".py",
   "mimetype": "text/x-python",
   "name": "python",
   "nbconvert_exporter": "python",
   "pygments_lexer": "ipython3",
   "version": "3.12.7"
  }
 },
 "nbformat": 4,
 "nbformat_minor": 5
}
